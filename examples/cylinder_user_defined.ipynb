{
 "cells": [
  {
   "cell_type": "markdown",
   "id": "1bd4ccd0",
   "metadata": {},
   "source": [
    "# Exampe: cylinder as a user-defined model\n",
    "\n",
    "This notebook shows how to implement the `cylinder` model as a user-defined model class in `ffsas`, which is then used for modelling and inversion. The `cylinder` model have four parameters: length $l$, radius $r$, angle to beam $\\theta$ and rotation about beam $\\phi$. "
   ]
  },
  {
   "cell_type": "code",
   "execution_count": null,
   "id": "66dbd827",
   "metadata": {},
   "outputs": [],
   "source": [
    "# avoid omp error on Mac\n",
    "import os\n",
    "os.environ['KMP_DUPLICATE_LIB_OK'] = 'True'\n",
    "\n",
    "# plotting setups\n",
    "import matplotlib.pyplot as plt\n",
    "import matplotlib\n",
    "import matplotlib.colors as colors\n",
    "matplotlib.rcParams.update({'font.size': 12})\n",
    "matplotlib.rcParams.update({'legend.fontsize': 11})\n",
    "matplotlib.rcParams.update({'axes.titlesize': 12})\n",
    "matplotlib.rcParams.update({'lines.linewidth': 2})\n",
    "\n",
    "# create output dir\n",
    "from pathlib import Path\n",
    "output_dir = Path('./output/cylinder')\n",
    "Path(output_dir / 'iterations').mkdir(parents=True, exist_ok=True)"
   ]
  },
  {
   "cell_type": "code",
   "execution_count": null,
   "id": "40b6902d",
   "metadata": {},
   "outputs": [],
   "source": [
    "# uncomment this line to install ffsas\n",
    "# !pip install ffsas\n",
    "\n",
    "# ffsas\n",
    "import torch\n",
    "import ffsas\n",
    "# in this example, we use float32 as the data type for torch tensors\n",
    "# this must be called before importing from ffsas.models and ffsas.system\n",
    "ffsas.set_torch_dtype(torch.float32)\n",
    "\n",
    "from ffsas.models import SASModel\n",
    "from ffsas.system import SASGreensSystem\n",
    "\n",
    "# set device to 'cuda' if you have a GPU\n",
    "device = 'cpu'\n",
    "\n",
    "# math tools\n",
    "import math\n",
    "from scipy.special import j1"
   ]
  },
  {
   "cell_type": "markdown",
   "id": "65c75860",
   "metadata": {},
   "source": [
    "# The `cylinder` model\n",
    "\n",
    "A user-defined model is implemented by class inheritance. The base class is `SASModel`. Four abstract class methods are to be implemented: \n",
    "\n",
    "* `compute_G()`: compute the Green's tensor $G$\n",
    "* `compute_V()`: compute volume $V$\n",
    "* `get_par_keys_G()`: get the parameter keys in the order they appear in the dimensions of $G$\n",
    "* `get_par_keys_V()`: get the parameter keys in the order they appear in the dimensions of $V$\n",
    "\n",
    "The arguments for `compute_G()` are explained below:\n",
    "* `q_list`: list of $q$-vectors; `len[q_list]` can be to 1 or 2, meaning that the intensity is a series or an image\n",
    "* `par_dict`: a `dict` of model parameters, all being 1D `torch.Tensor`'s\n",
    "* `const_dict`: a `dict` of model constants, all being scalars\n",
    "* `V`: the volume tensor $V$; if not provided, compute it in `compute_G()` if needed\n",
    "\n",
    "The `cylinder` model is implemented as below. The equation for the Green's tensor can be found [here](https://www.sasview.org/docs/user/models/cylinder.html). Avoiding `for` loop is the key to achieve high performance in forward modelling."
   ]
  },
  {
   "cell_type": "code",
   "execution_count": null,
   "id": "f0b9c848",
   "metadata": {},
   "outputs": [],
   "source": [
    "class Cylinder(SASModel):\n",
    "    @classmethod\n",
    "    def compute_G(cls, q_list, par_dict, const_dict, V=None):\n",
    "        # get parameters\n",
    "        qx, qy = q_list[0], q_list[1]\n",
    "        l, r = par_dict['l'], par_dict['r']\n",
    "        theta, phi = par_dict['theta'], par_dict['phi']\n",
    "        drho = const_dict['drho']\n",
    "\n",
    "        # compute volume\n",
    "        if V is None:\n",
    "            V = cls.compute_V(par_dict)\n",
    "            \n",
    "        #############\n",
    "        # Compute G #\n",
    "        #############\n",
    "\n",
    "        # step 1: rotate q\n",
    "        sin_theta = torch.sin(theta)\n",
    "        r31 = torch.outer(sin_theta, torch.cos(phi))\n",
    "        r32 = torch.outer(sin_theta, torch.sin(phi))\n",
    "        qc = (qx[:, None, None] * r31[None, :, :])[:, None, :, :] + \\\n",
    "             (qy[:, None, None] * r32[None, :, :])[None, :, :, :]\n",
    "        qa = torch.sqrt(torch.clip(\n",
    "            (qx ** 2)[:, None, None, None] +\n",
    "            (qy ** 2)[None, :, None, None] - qc ** 2, min=0.))\n",
    "\n",
    "        # step 2: qa * r, qc * l\n",
    "        qa_r = torch.moveaxis(qa[:, :, :, :, None] *\n",
    "                              r[None, None, None, None, :], 4, 2)\n",
    "        qc_l = torch.moveaxis(qc[:, :, :, :, None] *\n",
    "                              l[None, None, None, None, :], 4, 2) * .5\n",
    "        \n",
    "        # step 3: shape factor\n",
    "        sin_qc_l = torch.nan_to_num(2. * torch.sin(qc_l) / qc_l,\n",
    "                                    nan=1., posinf=1., neginf=1.)\n",
    "        # NOTE: scipy.special.j1() must be called on cpu\n",
    "        j1_qa_r = torch.tensor(j1(qa_r.to('cpu').numpy()), device=qa_r.device)\n",
    "        j1_qa_r = torch.nan_to_num(j1_qa_r / qa_r, nan=1., posinf=1., neginf=1.)\n",
    "        # shape factor\n",
    "        shape_factor = sin_qc_l[:, :, :, None, :, :] * j1_qa_r[:, :, None, :, :, :]\n",
    "        \n",
    "        # step 4: G\n",
    "        G = (drho * shape_factor * V[None, None, :, :, None, None]) ** 2\n",
    "        return G\n",
    "\n",
    "    @classmethod\n",
    "    def get_par_keys_G(cls):\n",
    "        return ['l', 'r', 'theta', 'phi']\n",
    "\n",
    "    @classmethod\n",
    "    def compute_V(cls, par_dict):\n",
    "        l, r = par_dict['l'], par_dict['r']\n",
    "        return math.pi * l[:, None] * r[None, :] ** 2\n",
    "\n",
    "    @classmethod\n",
    "    def get_par_keys_V(cls):\n",
    "        return ['l', 'r']"
   ]
  },
  {
   "cell_type": "markdown",
   "id": "eb9cbab7",
   "metadata": {},
   "source": [
    "Having the `Cylinder` class defined, the remainder of this notebook looks mostly the same as [ellipsoid.ipynb](ellipsoid.ipynb). "
   ]
  },
  {
   "cell_type": "markdown",
   "id": "75df7f91",
   "metadata": {},
   "source": [
    "---"
   ]
  },
  {
   "cell_type": "markdown",
   "id": "defb4dac",
   "metadata": {},
   "source": [
    "# Ground truth\n",
    "\n",
    "To do inversion, we need some intensity data as input. Here we create the data by modelling, using some noisy parameter distributions, or the ground truth.\n",
    "\n",
    "### Ground truth of distributions of $l$, $r$, $\\theta$, $\\phi$\n",
    "\n",
    "\n",
    "The following function creates a \"crazy\" distribution by adding up Gaussians and random noise."
   ]
  },
  {
   "cell_type": "code",
   "execution_count": null,
   "id": "cf7739ae",
   "metadata": {},
   "outputs": [],
   "source": [
    "def crazy_distribution(x, gaussians, noise_level, fade_start, fade_end, seed=0):\n",
    "    # create\n",
    "    w_true = torch.zeros(x.shape)\n",
    "    \n",
    "    # add Gaussians\n",
    "    for factor, mean, stddev in gaussians:\n",
    "        w_true += factor * torch.exp(-((x - mean) / stddev) ** 2)\n",
    "    \n",
    "    # add noise\n",
    "    torch.random.manual_seed(seed)\n",
    "    w_true += noise_level * torch.rand(x.shape) * torch.rand(x.shape)\n",
    "    \n",
    "    # fade both ends to make it look nicer\n",
    "    if len(x) >= 3:\n",
    "        w_true[0:fade_start] = 0.\n",
    "        w_true[fade_start:fade_end] *= torch.linspace(0, 1, fade_end - fade_start)\n",
    "        w_true[-fade_start:] = 0.\n",
    "        w_true[-fade_end:-fade_start] *= torch.linspace(1, 0, fade_end - fade_start)\n",
    "    \n",
    "    # normalize to 1\n",
    "    w_true /= torch.sum(w_true)\n",
    "    return w_true"
   ]
  },
  {
   "cell_type": "markdown",
   "id": "86fd8916",
   "metadata": {},
   "source": [
    "Make the parameter distributions:"
   ]
  },
  {
   "cell_type": "code",
   "execution_count": null,
   "id": "567aa762",
   "metadata": {},
   "outputs": [],
   "source": [
    "# parameters\n",
    "par_dict = {\n",
    "    'l': torch.linspace(200., 600., 18),\n",
    "    'r': torch.linspace(50., 90., 17),\n",
    "    'theta': torch.linspace(5., 60., 16),\n",
    "    'phi': torch.linspace(150., 240., 15)\n",
    "}\n",
    "\n",
    "# parameter distributions\n",
    "w_true_dict = {\n",
    "    'l': crazy_distribution(par_dict['l'], [(1.5, 300, 20), (1, 400, 20), (2, 500, 20)], 1, 1, 1),\n",
    "    'r': crazy_distribution(par_dict['r'], [(1, 60, 3), (2, 70, 4), (2, 80, 3)], 1, 1, 1),\n",
    "    'theta': crazy_distribution(par_dict['theta'], [(4, 15, 5), (2, 35, 5), (2, 50, 5)], 2, 1, 1),\n",
    "    'phi': crazy_distribution(par_dict['phi'], [(2, 170, 10), (2, 200, 10), (4, 220, 10)], 3, 1, 1)\n",
    "}\n",
    "\n",
    "# plot distributions\n",
    "fig, ax = plt.subplots(2, 2, dpi=200, figsize=(10, 6))\n",
    "plt.subplots_adjust(hspace=.5, wspace=.3)\n",
    "ax[0, 0].plot(par_dict['l'], w_true_dict['l'], label='Truth')\n",
    "ax[0, 1].plot(par_dict['r'], w_true_dict['r'], label='Truth')\n",
    "ax[1, 0].plot(par_dict['theta'], w_true_dict['theta'], label='Truth')\n",
    "ax[1, 1].plot(par_dict['phi'], w_true_dict['phi'], label='Truth')\n",
    "ax[0, 0].set_xlabel(r'Lenght, $l$ ($\\AA$)')\n",
    "ax[0, 1].set_xlabel(r'Radius, $r$ ($\\AA$)')\n",
    "ax[1, 0].set_xlabel(r'Cylinder axis to beam angle, $\\theta$ (degree)')\n",
    "ax[1, 1].set_xlabel(r'Rotation about beam, $\\phi$ (degree)')\n",
    "ax[0, 0].set_ylabel(r'Weights, $w$')\n",
    "ax[0, 1].set_ylabel(r'Weights, $w$')\n",
    "ax[1, 0].set_ylabel(r'Weights, $w$')\n",
    "ax[1, 1].set_ylabel(r'Weights, $w$')\n",
    "plt.savefig(output_dir / 'true_weights.png', bbox_inches='tight', facecolor='w')\n",
    "plt.show()\n",
    "\n",
    "# degree to radian\n",
    "par_dict['theta'] = torch.deg2rad(par_dict['theta'])\n",
    "par_dict['phi'] = torch.deg2rad(par_dict['phi'])"
   ]
  },
  {
   "cell_type": "markdown",
   "id": "96f97f25",
   "metadata": {},
   "source": [
    "### Ground truth of intensity\n",
    "\n",
    "Now we compute the true intensity from the above parameter distributions, assuming the truth of $\\xi$ and $b$. See `example/sphere/sphere.ipynb` to see the difference between `scale` in `SASView/SASModels` and $\\xi$ in `ffsas`."
   ]
  },
  {
   "cell_type": "code",
   "execution_count": null,
   "id": "9cb67413",
   "metadata": {},
   "outputs": [],
   "source": [
    "### ground truth of scale and background\n",
    "scale_true = 0.15\n",
    "b_true = 2.2e-4\n",
    "\n",
    "# q vectors\n",
    "qx = torch.linspace(-.5, .5, 32)\n",
    "qy = torch.linspace(-.75, .75, 48)\n",
    "\n",
    "# (SLD - SLD_solvent) ^ 2\n",
    "drho = 1.\n",
    "\n",
    "# comupute the Green's function and volume\n",
    "G = Cylinder.compute_G_mini_batch([qx, qy],  par_dict, {'drho': drho}, batch_size=8, device=device)\n",
    "\n",
    "# define the G-based SAS system\n",
    "g_sys = SASGreensSystem(G, Cylinder.get_par_keys_G(), batch_size=8, device=device, \n",
    "                        log_file=output_dir / 'GSys.log', log_screen=True)\n",
    "\n",
    "# true xi\n",
    "V = Cylinder.compute_V(par_dict)\n",
    "V_ave = torch.tensordot(torch.tensordot(V, w_true_dict['r'], dims=1), w_true_dict['l'], dims=1)\n",
    "xi_true = 1e-4 * scale_true / V_ave\n",
    "\n",
    "# finally compute the ground truth of intensity\n",
    "I_true = g_sys.compute_intensity(w_true_dict, xi_true, b_true)"
   ]
  },
  {
   "cell_type": "markdown",
   "id": "7e090ec9",
   "metadata": {},
   "source": [
    "Plot the intensity truth:"
   ]
  },
  {
   "cell_type": "code",
   "execution_count": null,
   "id": "87fab2f6",
   "metadata": {},
   "outputs": [],
   "source": [
    "plt.figure(dpi=150)\n",
    "plt.imshow(I_true.t(), \n",
    "           extent=(qx[0], qx[-1], qy[0], qy[-1]), aspect=1., cmap='hot',\n",
    "           norm=colors.LogNorm(vmin=I_true.min(), vmax=I_true.max()))\n",
    "plt.xlabel(r'Scattering vector, $qx$ ($\\AA^{-1}$)')\n",
    "plt.ylabel(r'Scattering vector, $qy$ ($\\AA^{-1}$)')\n",
    "plt.colorbar()\n",
    "plt.savefig(output_dir / 'true_intensity.png', bbox_inches='tight', facecolor='w')\n",
    "plt.show()"
   ]
  },
  {
   "cell_type": "markdown",
   "id": "b9eb4204",
   "metadata": {},
   "source": [
    "---"
   ]
  },
  {
   "cell_type": "markdown",
   "id": "dbedaa4b",
   "metadata": {},
   "source": [
    "#  Inversion\n",
    "\n",
    "With the G-based SAS system defined, inversion only requires one line, taking the simulated intensity data (`I_truth`) as input (for both mean and stddev). We perform 300 iterations by sending `maxiter=300` and save the results every 10 steps by `save_iter=10`."
   ]
  },
  {
   "cell_type": "code",
   "execution_count": null,
   "id": "ab56f72f",
   "metadata": {
    "scrolled": false
   },
   "outputs": [],
   "source": [
    "# invert the G-system\n",
    "res_dict = g_sys.solve_inverse(I_true, I_true, auto_scaling=True, \n",
    "                               maxiter=300, verbose=2, save_iter=10,\n",
    "                               trust_options={'xtol': 0.})  # disable early stop and finish 300 iters"
   ]
  },
  {
   "cell_type": "markdown",
   "id": "9f100e5c",
   "metadata": {},
   "source": [
    "Plot the convergence history of the weights of $l$, $r$, $\\theta$, $\\phi$:"
   ]
  },
  {
   "cell_type": "code",
   "execution_count": null,
   "id": "bd8466fc",
   "metadata": {
    "scrolled": false
   },
   "outputs": [],
   "source": [
    "# scaling factor to plot 1/sensitivity as uncertainty \n",
    "scaling_factor_sensitivity = .5\n",
    "par_keys = ['l', 'r', 'theta', 'phi']\n",
    "par_keys_latex = [r'$l$', r'$r$', r'$\\theta$', r'$\\phi$']\n",
    "\n",
    "# plot history\n",
    "for i, saved_res_dict in enumerate(res_dict['saved_res']):\n",
    "    fig, ax = plt.subplots(1, 4, dpi=200, figsize=(15, 2))\n",
    "    for ikey, key in enumerate(par_keys):\n",
    "        # truth\n",
    "        ax[ikey].plot(par_dict[key], w_true_dict[key], label=f'Truth')\n",
    "        # fitted\n",
    "        ax[ikey].plot(par_dict[key], saved_res_dict['w_dict'][key], label=f'MLE')\n",
    "        # sensitivity\n",
    "        sens = saved_res_dict['sens_w_dict'][key] / saved_res_dict['sens_w_dict'][key].sum()\n",
    "        ax[ikey].fill_between(par_dict[key], \n",
    "                              saved_res_dict['w_dict'][key] - abs(scaling_factor_sensitivity * sens), \n",
    "                              saved_res_dict['w_dict'][key] + abs(scaling_factor_sensitivity * sens), \n",
    "                              alpha=.3, color='gray', zorder=-100, label=r'Sens${}^{-1}$')\n",
    "        # settings\n",
    "        ax[ikey].set_xlabel(par_keys_latex[ikey])\n",
    "        ax[ikey].set_ylim(-.01, w_true_dict[key].max() * 1.1)\n",
    "        ax[ikey].set_xlim(par_dict[key].min(), par_dict[key].max())\n",
    "        ax[ikey].set_xticks([])\n",
    "    ax[0].set_ylabel(f'iter={saved_res_dict[\"nit\"]}')\n",
    "    ax[2].legend(loc='upper right')\n",
    "    plt.savefig(output_dir / f'iterations/{i}.png', bbox_inches='tight', facecolor='w')\n",
    "    plt.show()"
   ]
  },
  {
   "cell_type": "markdown",
   "id": "b97fdbae",
   "metadata": {},
   "source": [
    "Note that the distributions of $l$ and $\\theta$ are not perfectly recovered. This is because we used `ffsas.set_torch_dtype(torch.float32)` at the very beginning. Switch to `torch.float64` to\n",
    "recover the ground truth accurately.\n",
    "\n",
    "Finally, plot the fitted intensity and fitting error:"
   ]
  },
  {
   "cell_type": "code",
   "execution_count": null,
   "id": "133179f8",
   "metadata": {},
   "outputs": [],
   "source": [
    "fig, ax = plt.subplots(1, 3, dpi=200, figsize=(12, 4), sharex=True, sharey=True)\n",
    "plt.subplots_adjust(wspace=-.3)\n",
    "# truth\n",
    "cm = ax[0].imshow(I_true.t(), extent=(qx[0], qx[-1], qy[0], qy[-1]), cmap='hot',\n",
    "                  norm=colors.LogNorm(vmin=I_true.min(), vmax=I_true.max()))\n",
    "ax[0].set_title('True intensity')\n",
    "ax[0].set_xlabel(r'Scattering vector, $q_x$ ($\\AA^{-1}$)')\n",
    "ax[0].set_ylabel(r'Scattering vector, $q_y$ ($\\AA^{-1}$)')\n",
    "# fitted\n",
    "ax[1].imshow(res_dict['I'].t(), extent=(qx[0], qx[-1], qy[0], qy[-1]), cmap='hot',\n",
    "             norm=colors.LogNorm(vmin=I_true.min(), vmax=I_true.max()))\n",
    "ax[1].set_title('Fitted intensity')\n",
    "ax[1].set_xlabel(r'Scattering vector, $q_x$ ($\\AA^{-1}$)')\n",
    "# error\n",
    "im = ax[2].imshow(torch.clip(torch.abs(res_dict['I'].t() - I_true.t()), min=1e-10), \n",
    "                  extent=(qx[0], qx[-1], qy[0], qy[-1]), cmap='hot',\n",
    "                  norm=colors.LogNorm(vmin=I_true.min(), vmax=I_true.max()))\n",
    "ax[2].set_title('Misfit')\n",
    "ax[2].set_xlabel(r'Scattering vector, $q_x$ ($\\AA^{-1}$)')\n",
    "\n",
    "# colorbar\n",
    "cbar_ax = fig.add_axes([.86, 0.15, 0.02, 0.7])\n",
    "fig.colorbar(im, cax=cbar_ax)\n",
    "plt.savefig(output_dir / 'intensity_fit.png', bbox_inches='tight', facecolor='w')\n",
    "plt.show()"
   ]
  },
  {
   "cell_type": "markdown",
   "id": "9861e4ff",
   "metadata": {},
   "source": [
    "---"
   ]
  }
 ],
 "metadata": {
  "kernelspec": {
   "display_name": "Python 3",
   "language": "python",
   "name": "python3"
  },
  "language_info": {
   "codemirror_mode": {
    "name": "ipython",
    "version": 3
   },
   "file_extension": ".py",
   "mimetype": "text/x-python",
   "name": "python",
   "nbconvert_exporter": "python",
   "pygments_lexer": "ipython3",
   "version": "3.8.10"
  }
 },
 "nbformat": 4,
 "nbformat_minor": 5
}
