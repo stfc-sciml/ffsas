{
 "cells": [
  {
   "cell_type": "markdown",
   "id": "1bd4ccd0",
   "metadata": {},
   "source": [
    "# Exampe: ellipsoid\n",
    "\n",
    "This notebook shows how to use `ffsas` to invert for the parameter distributions of a `ellipsoid` model, including polar radius $r_p$, equatorial radius $r_e$, angle to beam $\\theta$ and rotation about beam $\\phi$."
   ]
  },
  {
   "cell_type": "code",
   "execution_count": null,
   "id": "66dbd827",
   "metadata": {},
   "outputs": [],
   "source": [
    "# avoid omp error on Mac\n",
    "import os\n",
    "os.environ['KMP_DUPLICATE_LIB_OK'] = 'True'\n",
    "\n",
    "# plotting setups\n",
    "import matplotlib.pyplot as plt\n",
    "import matplotlib\n",
    "import matplotlib.colors as colors\n",
    "matplotlib.rcParams.update({'font.size': 12})\n",
    "matplotlib.rcParams.update({'legend.fontsize': 11})\n",
    "matplotlib.rcParams.update({'axes.titlesize': 12})\n",
    "matplotlib.rcParams.update({'lines.linewidth': 2})\n",
    "\n",
    "# create output dir\n",
    "from pathlib import Path\n",
    "output_dir = Path('./output/ellipsoid')\n",
    "Path(output_dir / 'iterations').mkdir(parents=True, exist_ok=True)"
   ]
  },
  {
   "cell_type": "code",
   "execution_count": null,
   "id": "40b6902d",
   "metadata": {},
   "outputs": [],
   "source": [
    "# uncomment this line to install ffsas\n",
    "# !pip install ffsas\n",
    "\n",
    "# ffsas\n",
    "import torch\n",
    "from ffsas.models import Ellipsoid\n",
    "from ffsas.system import SASGreensSystem\n",
    "\n",
    "# set device to 'cuda' if you have a GPU\n",
    "device = 'cpu'"
   ]
  },
  {
   "cell_type": "markdown",
   "id": "defb4dac",
   "metadata": {},
   "source": [
    "# Ground truth\n",
    "\n",
    "To do inversion, we need some intensity data as input. Here we create the data by modelling, using some noisy parameter distributions, or the ground truth.\n",
    "\n",
    "### Ground truth of distributions of $r_p$, $r_e$, $\\theta$, $\\phi$\n",
    "\n",
    "\n",
    "The following function creates a \"crazy\" distribution by adding up Gaussians and random noise."
   ]
  },
  {
   "cell_type": "code",
   "execution_count": null,
   "id": "cf7739ae",
   "metadata": {},
   "outputs": [],
   "source": [
    "def crazy_distribution(x, gaussians, noise_level, fade_start, fade_end, seed=0):\n",
    "    # create\n",
    "    w_true = torch.zeros(x.shape)\n",
    "    \n",
    "    # add Gaussians\n",
    "    for factor, mean, stddev in gaussians:\n",
    "        w_true += factor * torch.exp(-((x - mean) / stddev) ** 2)\n",
    "    \n",
    "    # add noise\n",
    "    torch.random.manual_seed(seed)\n",
    "    w_true += noise_level * torch.rand(x.shape) * torch.rand(x.shape)\n",
    "    \n",
    "    # fade both ends to make it look nicer\n",
    "    if len(x) >= 3:\n",
    "        w_true[0:fade_start] = 0.\n",
    "        w_true[fade_start:fade_end] *= torch.linspace(0, 1, fade_end - fade_start)\n",
    "        w_true[-fade_start:] = 0.\n",
    "        w_true[-fade_end:-fade_start] *= torch.linspace(1, 0, fade_end - fade_start)\n",
    "    \n",
    "    # normalize to 1\n",
    "    w_true /= torch.sum(w_true)\n",
    "    return w_true"
   ]
  },
  {
   "cell_type": "markdown",
   "id": "86fd8916",
   "metadata": {},
   "source": [
    "Make the parameter distributions:"
   ]
  },
  {
   "cell_type": "code",
   "execution_count": null,
   "id": "567aa762",
   "metadata": {},
   "outputs": [],
   "source": [
    "# parameters\n",
    "par_dict = {\n",
    "    'rp': torch.linspace(200., 600., 18),\n",
    "    're': torch.linspace(50., 90., 17),\n",
    "    'theta': torch.linspace(5., 60., 16),\n",
    "    'phi': torch.linspace(150., 240., 15)\n",
    "}\n",
    "\n",
    "# parameter distributions\n",
    "w_true_dict = {\n",
    "    'rp': crazy_distribution(par_dict['rp'], [(1.5, 300, 20), (1, 400, 20), (2, 500, 20)], 1, 1, 1),\n",
    "    're': crazy_distribution(par_dict['re'], [(1, 60, 3), (2, 70, 4), (2, 80, 3)], 1, 1, 1),\n",
    "    'theta': crazy_distribution(par_dict['theta'], [(4, 15, 5), (2, 35, 5), (2, 50, 5)], 2, 1, 1),\n",
    "    'phi': crazy_distribution(par_dict['phi'], [(2, 170, 10), (2, 200, 10), (4, 220, 10)], 3, 1, 1)\n",
    "}\n",
    "\n",
    "# plot distributions\n",
    "fig, ax = plt.subplots(2, 2, dpi=200, figsize=(10, 6))\n",
    "plt.subplots_adjust(hspace=.5, wspace=.3)\n",
    "ax[0, 0].plot(par_dict['rp'], w_true_dict['rp'], label='Truth')\n",
    "ax[0, 1].plot(par_dict['re'], w_true_dict['re'], label='Truth')\n",
    "ax[1, 0].plot(par_dict['theta'], w_true_dict['theta'], label='Truth')\n",
    "ax[1, 1].plot(par_dict['phi'], w_true_dict['phi'], label='Truth')\n",
    "ax[0, 0].set_xlabel(r'Polar radius, $r_p$ ($\\AA$)')\n",
    "ax[0, 1].set_xlabel(r'Equatorial radius, $r_e$ ($\\AA$)')\n",
    "ax[1, 0].set_xlabel(r'Ellipsoid axis to beam angle, $\\theta$ (degree)')\n",
    "ax[1, 1].set_xlabel(r'Rotation about beam, $\\phi$ (degree)')\n",
    "ax[0, 0].set_ylabel(r'Weights, $w$')\n",
    "ax[0, 1].set_ylabel(r'Weights, $w$')\n",
    "ax[1, 0].set_ylabel(r'Weights, $w$')\n",
    "ax[1, 1].set_ylabel(r'Weights, $w$')\n",
    "plt.savefig(output_dir / 'true_weights.png', bbox_inches='tight', facecolor='w')\n",
    "plt.show()\n",
    "\n",
    "# degree to radian\n",
    "par_dict['theta'] = torch.deg2rad(par_dict['theta'])\n",
    "par_dict['phi'] = torch.deg2rad(par_dict['phi'])"
   ]
  },
  {
   "cell_type": "markdown",
   "id": "96f97f25",
   "metadata": {},
   "source": [
    "### Ground truth of intensity\n",
    "\n",
    "Now we compute the true intensity from the above parameter distributions, assuming the truth of $\\xi$ and $b$. See [sphere.ipynb](sphere.ipynb) to see the difference between `scale` in [SASView/SASModels](http://www.sasview.org/docs/user/models/ellipsoid.html) and $\\xi$ in `ffsas`."
   ]
  },
  {
   "cell_type": "code",
   "execution_count": null,
   "id": "9cb67413",
   "metadata": {},
   "outputs": [],
   "source": [
    "### ground truth of scale and background\n",
    "scale_true = 0.15\n",
    "b_true = 2.2e-4\n",
    "\n",
    "# q vectors\n",
    "qx = torch.linspace(-.25, .25, 32)\n",
    "qy = torch.linspace(-.25, .25, 30)\n",
    "\n",
    "# (SLD - SLD_solvent) ^ 2\n",
    "drho = 1.\n",
    "\n",
    "# comupute the Green's function and volume\n",
    "G = Ellipsoid.compute_G_mini_batch([qx, qy],  par_dict, {'drho': drho}, batch_size=8, device=device)\n",
    "\n",
    "# define the G-based SAS system\n",
    "g_sys = SASGreensSystem(G, Ellipsoid.get_par_keys_G(), batch_size=8, device=device, \n",
    "                        log_file=output_dir / 'GSys.log', log_screen=True)\n",
    "\n",
    "# true xi\n",
    "V = Ellipsoid.compute_V(par_dict)\n",
    "V_ave = torch.tensordot(torch.tensordot(V, w_true_dict['re'], dims=1), w_true_dict['rp'], dims=1)\n",
    "xi_true = 1e-4 * scale_true / V_ave\n",
    "\n",
    "# finally compute the ground truth of intensity\n",
    "I_true = g_sys.compute_intensity(w_true_dict, xi_true, b_true)"
   ]
  },
  {
   "cell_type": "markdown",
   "id": "7e090ec9",
   "metadata": {},
   "source": [
    "Plot the intensity truth:"
   ]
  },
  {
   "cell_type": "code",
   "execution_count": null,
   "id": "87fab2f6",
   "metadata": {},
   "outputs": [],
   "source": [
    "plt.figure(dpi=150)\n",
    "plt.imshow(I_true.t(), \n",
    "           extent=(qx[0], qx[-1], qy[0], qy[-1]), cmap='hot',\n",
    "           norm=colors.LogNorm(vmin=I_true.min(), vmax=I_true.max()))\n",
    "plt.xlabel(r'Scattering vector, $q_x$ ($\\AA^{-1}$)')\n",
    "plt.ylabel(r'Scattering vector, $q_y$ ($\\AA^{-1}$)')\n",
    "plt.colorbar()\n",
    "plt.savefig(output_dir / 'true_intensity.png', bbox_inches='tight', facecolor='w')\n",
    "plt.show()"
   ]
  },
  {
   "cell_type": "markdown",
   "id": "b9eb4204",
   "metadata": {},
   "source": [
    "---"
   ]
  },
  {
   "cell_type": "markdown",
   "id": "dbedaa4b",
   "metadata": {},
   "source": [
    "#  Inversion\n",
    "\n",
    "With the G-based SAS system defined, inversion only requires one line, taking the simulated intensity data (`I_truth`) as input (for both mean and stddev). We perform 300 iterations by sending `maxiter=300` and save the results every 10 steps by `save_iter=10`."
   ]
  },
  {
   "cell_type": "code",
   "execution_count": null,
   "id": "ab56f72f",
   "metadata": {
    "scrolled": false
   },
   "outputs": [],
   "source": [
    "# invert the G-system\n",
    "res_dict = g_sys.solve_inverse(I_true, I_true, auto_scaling=True, \n",
    "                               maxiter=300, verbose=2, save_iter=10)"
   ]
  },
  {
   "cell_type": "markdown",
   "id": "9f100e5c",
   "metadata": {},
   "source": [
    "Plot the convergence history of the weights of $r_p$, $r_e$, $\\theta$, $\\phi$:"
   ]
  },
  {
   "cell_type": "code",
   "execution_count": null,
   "id": "bd8466fc",
   "metadata": {
    "scrolled": false
   },
   "outputs": [],
   "source": [
    "# scaling factor to plot 1/sensitivity as uncertainty \n",
    "scaling_factor_sensitivity = .5\n",
    "par_keys = ['rp', 're', 'theta', 'phi']\n",
    "par_keys_latex = [r'$r_p$', r'$r_e$', r'$\\theta$', r'$\\phi$']\n",
    "\n",
    "# plot history\n",
    "for i, saved_res_dict in enumerate(res_dict['saved_res']):\n",
    "    fig, ax = plt.subplots(1, 4, dpi=200, figsize=(15, 2))\n",
    "    for ikey, key in enumerate(par_keys):\n",
    "        # truth\n",
    "        ax[ikey].plot(par_dict[key], w_true_dict[key], label=f'Truth')\n",
    "        # fitted\n",
    "        ax[ikey].plot(par_dict[key], saved_res_dict['w_dict'][key], label=f'MLE')\n",
    "        # sensitivity\n",
    "        sens = saved_res_dict['sens_w_dict'][key] / saved_res_dict['sens_w_dict'][key].sum()\n",
    "        ax[ikey].fill_between(par_dict[key], \n",
    "                              saved_res_dict['w_dict'][key] - abs(scaling_factor_sensitivity * sens), \n",
    "                              saved_res_dict['w_dict'][key] + abs(scaling_factor_sensitivity * sens), \n",
    "                              alpha=.3, color='gray', zorder=-100, label=r'Sens${}^{-1}$')\n",
    "        # settings\n",
    "        ax[ikey].set_xlabel(par_keys_latex[ikey])\n",
    "        ax[ikey].set_ylim(-.01, w_true_dict[key].max() * 1.1)\n",
    "        ax[ikey].set_xlim(par_dict[key].min(), par_dict[key].max())\n",
    "        ax[ikey].set_xticks([])\n",
    "    ax[0].set_ylabel(f'iter={saved_res_dict[\"nit\"]}')\n",
    "    ax[2].legend(loc='upper right')\n",
    "    plt.savefig(output_dir / f'iterations/{i}.png', bbox_inches='tight', facecolor='w')\n",
    "    plt.show()"
   ]
  },
  {
   "cell_type": "markdown",
   "id": "b97fdbae",
   "metadata": {},
   "source": [
    "Finally, plot the fitted intensity and misfit:"
   ]
  },
  {
   "cell_type": "code",
   "execution_count": null,
   "id": "133179f8",
   "metadata": {},
   "outputs": [],
   "source": [
    "fig, ax = plt.subplots(1, 3, dpi=200, figsize=(12, 4), sharex=True, sharey=True)\n",
    "plt.subplots_adjust(wspace=.2)\n",
    "# truth\n",
    "cm = ax[0].imshow(I_true.t(), extent=(qx[0], qx[-1], qy[0], qy[-1]), cmap='hot',\n",
    "                  norm=colors.LogNorm(vmin=I_true.min(), vmax=I_true.max()))\n",
    "ax[0].set_title('True intensity')\n",
    "ax[0].set_xlabel(r'Scattering vector, $q_x$ ($\\AA^{-1}$)')\n",
    "ax[0].set_ylabel(r'Scattering vector, $q_y$ ($\\AA^{-1}$)')\n",
    "# fitted\n",
    "ax[1].imshow(res_dict['I'].t(), extent=(qx[0], qx[-1], qy[0], qy[-1]), cmap='hot',\n",
    "             norm=colors.LogNorm(vmin=I_true.min(), vmax=I_true.max()))\n",
    "ax[1].set_title('Fitted intensity')\n",
    "ax[1].set_xlabel(r'Scattering vector, $q_x$ ($\\AA^{-1}$)')\n",
    "# error\n",
    "im = ax[2].imshow(torch.abs(res_dict['I'].t() - I_true.t()), \n",
    "                  extent=(qx[0], qx[-1], qy[0], qy[-1]), cmap='hot',\n",
    "                  norm=colors.LogNorm(vmin=I_true.min(), vmax=I_true.max()))\n",
    "ax[2].set_title('Misfit')\n",
    "ax[2].set_xlabel(r'Scattering vector, $q_x$ ($\\AA^{-1}$)')\n",
    "\n",
    "# colorbar\n",
    "cbar_ax = fig.add_axes([.92, 0.15, 0.02, 0.7])\n",
    "fig.colorbar(im, cax=cbar_ax)\n",
    "plt.savefig(output_dir / 'intensity_fit.png', bbox_inches='tight', facecolor='w')\n",
    "plt.show()"
   ]
  },
  {
   "cell_type": "markdown",
   "id": "9861e4ff",
   "metadata": {},
   "source": [
    "---"
   ]
  }
 ],
 "metadata": {
  "kernelspec": {
   "display_name": "Python 3",
   "language": "python",
   "name": "python3"
  },
  "language_info": {
   "codemirror_mode": {
    "name": "ipython",
    "version": 3
   },
   "file_extension": ".py",
   "mimetype": "text/x-python",
   "name": "python",
   "nbconvert_exporter": "python",
   "pygments_lexer": "ipython3",
   "version": "3.8.10"
  }
 },
 "nbformat": 4,
 "nbformat_minor": 5
}
