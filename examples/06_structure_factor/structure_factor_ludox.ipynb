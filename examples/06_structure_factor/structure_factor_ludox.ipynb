{
 "cells": [
  {
   "cell_type": "markdown",
   "id": "747a5c73",
   "metadata": {},
   "source": [
    "# Example: structure factors\n",
    "\n",
    "In this notebook, we show how to conduct size distribution inversion with structure factors for high-concentration systems. In the next version of `ffsas`, we will make this much easier with a new user API."
   ]
  },
  {
   "cell_type": "code",
   "execution_count": null,
   "id": "b971c3a8",
   "metadata": {},
   "outputs": [],
   "source": [
    "from pathlib import Path\n",
    "import pickle\n",
    "\n",
    "import matplotlib.pyplot as plt\n",
    "import numpy as np\n",
    "import torch\n",
    "from scipy import optimize, interpolate\n",
    "\n",
    "import ffsas\n",
    "from ffsas.models import Sphere\n",
    "from ffsas.system import SASGreensSystem\n",
    "\n",
    "# avoid an OMP error on MacOS (nothing to do with ffsas)\n",
    "import os\n",
    "os.environ['KMP_DUPLICATE_LIB_OK'] = 'True'"
   ]
  },
  {
   "cell_type": "code",
   "execution_count": null,
   "id": "39968f8b",
   "metadata": {},
   "outputs": [],
   "source": [
    "# reproduce figures in the paper \n",
    "reproduce_paper_fig = True\n",
    "if reproduce_paper_fig:\n",
    "    # this will trigger an error if latex is not installed\n",
    "    plt.rcParams.update({\n",
    "        \"text.usetex\": True,\n",
    "        \"text.latex.preamble\": r'\\usepackage{bm,upgreek}',\n",
    "        \"font.family\": \"sans-serif\",\n",
    "        \"font.serif\": [\"Times\"]})\n",
    "    # figure dir\n",
    "    paper_fig_dir = Path('../paper_figs')\n",
    "    Path(paper_fig_dir).mkdir(parents=True, exist_ok=True)"
   ]
  },
  {
   "cell_type": "markdown",
   "id": "79bc041d",
   "metadata": {},
   "source": [
    "# Core functions"
   ]
  },
  {
   "cell_type": "code",
   "execution_count": null,
   "id": "561e01bd",
   "metadata": {},
   "outputs": [],
   "source": [
    "# compute the structure factor S given q, effective radius and volume fraction\n",
    "# assuming the \"hard sphere\" model\n",
    "# adapted from hardsphere.py downloaded from \n",
    "# https://www.sasview.org/docs/user/models/hardsphere.html\n",
    "def compute_S_hard_sphere(q, r_eff, vol_frac):\n",
    "    D = (1.0 / (1.0 - vol_frac)) ** 2\n",
    "    A = ((1. + 2. * vol_frac) * D) ** 2\n",
    "    X = np.abs(q * r_eff * 2.0)\n",
    "    X2 = X * X\n",
    "    B = -6. * vol_frac * ((1.0 + 0.5 * vol_frac) * D) ** 2\n",
    "    G = 0.5 * vol_frac * A\n",
    "    X4 = X2 * X2\n",
    "    S = np.sin(X)\n",
    "    C = np.cos(X)\n",
    "    FF = ((G * ((4. * X2 - 24.) * X * S - (\n",
    "        X4 - 12. * X2 + 24.) * C + 24.) / X2 + B * (\n",
    "        2. * X * S - (X2 - 2.) * C - 2.)) / X + A * (S - X * C)) / X\n",
    "    SF = 1. / (1. + 24. * vol_frac * FF / X2)\n",
    "    return SF\n",
    "\n",
    "# compute intensity\n",
    "# https://www.sasview.org/docs/user/qtgui/Perspectives/Fitting/fitting_sq.html\n",
    "def compute_I(G, w, q, r_vec_or_r_eff, vol_frac, xi, b, beta=None):\n",
    "    # form factor\n",
    "    P = np.dot(G, w)\n",
    "    # structure factor\n",
    "    if hasattr(r_vec_or_r_eff, \"__len__\"):\n",
    "        r_eff = (w * r_vec_or_r_eff ** 3).sum() ** (1 / 3)\n",
    "    else:\n",
    "        r_eff = r_vec_or_r_eff\n",
    "    S = compute_S_hard_sphere(q, r_eff, vol_frac)\n",
    "    # scale and background\n",
    "    if beta is None:\n",
    "        I = xi * vol_frac * P * S + b\n",
    "    else:\n",
    "        I = xi * vol_frac * P * (1. + beta * (S - 1.)) + b\n",
    "    return I\n",
    "    \n",
    "# compute chi2\n",
    "def compute_chi2(G, w, q, r_vec_or_r_eff, vol_frac, xi, b, mu, sigma, beta=None):\n",
    "    I = compute_I(G, w, q, r_vec_or_r_eff, vol_frac, xi, b, beta) \n",
    "    eps = (I - mu) / sigma\n",
    "    chi2 = (eps * eps).sum()\n",
    "    return chi2"
   ]
  },
  {
   "cell_type": "code",
   "execution_count": null,
   "id": "9f3d87ce",
   "metadata": {},
   "outputs": [],
   "source": [
    "# test structure factor using default of SasView\n",
    "# https://www.sasview.org/docs/user/models/hardsphere.html\n",
    "q = 10 ** np.linspace(-3, 0, 200)\n",
    "S = compute_S_hard_sphere(q, r_eff=50, vol_frac=.2)\n",
    "plt.figure(dpi=100)\n",
    "plt.plot(q, S)\n",
    "plt.xscale('log')\n",
    "plt.xlabel('Scattering vector, $q$ (\\AA$^{-1}$)')\n",
    "plt.ylabel('Structure factor, $S$')\n",
    "plt.show()"
   ]
  },
  {
   "cell_type": "markdown",
   "id": "d2781b46",
   "metadata": {},
   "source": [
    "# Data"
   ]
  },
  {
   "cell_type": "code",
   "execution_count": null,
   "id": "722c29d3",
   "metadata": {},
   "outputs": [],
   "source": [
    "# read data\n",
    "fname = 'S49_Ludox6_1pct.dat'\n",
    "data = np.loadtxt('data/' + fname, skiprows=1)\n",
    "\n",
    "# q vector\n",
    "q = data[:, 0]\n",
    "\n",
    "# intensity mean\n",
    "mu = data[:, 1]\n",
    "\n",
    "# intensity stddev\n",
    "sigma = data[:, 2]\n",
    "\n",
    "# truncate at low-q\n",
    "tr = 60\n",
    "q_tr = q[tr:]\n",
    "mu_tr = mu[tr:]\n",
    "sigma_tr = sigma[tr:]\n",
    "\n",
    "# plot\n",
    "plt.figure(dpi=100)\n",
    "plt.errorbar(q, mu, yerr=sigma, ecolor='g')\n",
    "plt.axvline(q_tr[0], c='r')\n",
    "plt.xscale('log')\n",
    "plt.yscale('log')\n",
    "plt.xlabel('Scattering vector, $q$ (\\AA$^{-1}$)')\n",
    "plt.ylabel('Intensity, $I$ ($\\mathrm{cm}^{-1}$)')\n",
    "plt.show()"
   ]
  },
  {
   "cell_type": "markdown",
   "id": "d9fbc0f2",
   "metadata": {},
   "source": [
    "Compute the Green's tensor to compute form factor:"
   ]
  },
  {
   "cell_type": "code",
   "execution_count": null,
   "id": "e30e9d29",
   "metadata": {},
   "outputs": [],
   "source": [
    "# specify radii\n",
    "r = 10 ** np.linspace(0, 2.5, 1000)\n",
    "\n",
    "# compute the Green's tensor\n",
    "G = Sphere.compute_G_mini_batch([torch.tensor(q_tr)], \n",
    "                                {'r': torch.tensor(r)}, \n",
    "                                {'drho': 1.}, log_screen=False)"
   ]
  },
  {
   "cell_type": "markdown",
   "id": "dfd3d3ce",
   "metadata": {},
   "source": [
    "Here we do a \"fake\" inversion (only with one iteration) to find the auto-scaling factors for `xi` and `b`:"
   ]
  },
  {
   "cell_type": "code",
   "execution_count": null,
   "id": "7007d234",
   "metadata": {},
   "outputs": [],
   "source": [
    "# build G-system\n",
    "g_sys = SASGreensSystem(G, Sphere.get_par_keys_G(), log_screen=False)\n",
    "\n",
    "# fake inversion\n",
    "results = g_sys.solve_inverse(mu_tr, sigma_tr, maxiter=1)\n",
    "\n",
    "# auto scales\n",
    "xi_mag = g_sys._xi_mag\n",
    "b_mag = g_sys._b_mag\n",
    "print(f'Order of magnitude of xi: {xi_mag}')\n",
    "print(f'Order of magnitude of b: {b_mag}')\n",
    "\n",
    "# scale the data to pre-condition the inverse problem\n",
    "G_scaled = (G * xi_mag / b_mag).numpy()\n",
    "mu_tr_scaled =  mu_tr / b_mag\n",
    "sigma_tr_scaled = sigma_tr / b_mag"
   ]
  },
  {
   "cell_type": "markdown",
   "id": "ec7225ba",
   "metadata": {},
   "source": [
    "# Inversion\n",
    "\n",
    "### 1. Make an initial guess\n"
   ]
  },
  {
   "cell_type": "code",
   "execution_count": null,
   "id": "b046f2e7",
   "metadata": {},
   "outputs": [],
   "source": [
    "# whether to use independent r_eff when computing S\n",
    "independent_r_eff = True\n",
    "\n",
    "# whether to consider beta when computing S\n",
    "consider_beta = False"
   ]
  },
  {
   "cell_type": "code",
   "execution_count": null,
   "id": "43c03ebd",
   "metadata": {},
   "outputs": [],
   "source": [
    "# uniform weights\n",
    "w0 = np.ones_like(r) / len(r)\n",
    "xi_scaled0 = 100\n",
    "b_scaled0 = 2.5\n",
    "vol_frac0 = 0.05\n",
    "r_eff0 = 180\n",
    "beta0 = np.ones_like(q_tr)\n",
    "\n",
    "# flattend X0\n",
    "X0 = np.concatenate((np.sqrt(w0), [xi_scaled0, b_scaled0, vol_frac0]))\n",
    "if independent_r_eff:\n",
    "    X0 = np.concatenate((X0, [r_eff0]))\n",
    "if consider_beta:\n",
    "    X0 = np.concatenate((X0, np.sqrt(beta0)))"
   ]
  },
  {
   "cell_type": "code",
   "execution_count": null,
   "id": "39f935cd",
   "metadata": {},
   "outputs": [],
   "source": [
    "# intensity at initial guess\n",
    "I_pred0 = compute_I(G=G, w=w0, \n",
    "                    q=q_tr, r_vec_or_r_eff=r_eff0, vol_frac=vol_frac0, \n",
    "                    xi=xi_scaled0 * xi_mag, b=b_scaled0 * b_mag, beta=beta0)\n",
    "plt.figure(dpi=100)\n",
    "plt.plot(q, mu)\n",
    "plt.plot(q_tr, I_pred0)\n",
    "plt.xscale('log')\n",
    "plt.yscale('log')\n",
    "plt.xlabel('Scattering vector, $q$ (\\AA$^{-1}$)')\n",
    "plt.ylabel('Intensity, $I$ ($\\mathrm{cm}^{-1}$)')\n",
    "plt.show()"
   ]
  },
  {
   "cell_type": "markdown",
   "id": "48e65a6a",
   "metadata": {},
   "source": [
    "### 2. Define objective function and constraints for the NLP"
   ]
  },
  {
   "cell_type": "code",
   "execution_count": null,
   "id": "799f20d0",
   "metadata": {},
   "outputs": [],
   "source": [
    "# objective function\n",
    "def obj_func(X):\n",
    "    # extract variables from X\n",
    "    w, xi_scaled, b_scaled, vol_frac = X[:len(r)] ** 2, X[len(r)], X[len(r) + 1], X[len(r) + 2]\n",
    "    if independent_r_eff:\n",
    "        r_vec_or_r_eff = X[len(r) + 3]\n",
    "    else:\n",
    "        r_vec_or_r_eff = r\n",
    "    if consider_beta:\n",
    "        beta = (X[-len(q_tr):]) ** 2\n",
    "    else:\n",
    "        beta = None\n",
    "    # compute chi2\n",
    "    return compute_chi2(G=G_scaled, w=w, \n",
    "                        q=q_tr, r_vec_or_r_eff=r_vec_or_r_eff, vol_frac=vol_frac, \n",
    "                        xi=xi_scaled, b=b_scaled, \n",
    "                        mu=mu_tr_scaled, sigma=sigma_tr_scaled, \n",
    "                        beta=beta)\n",
    "\n",
    "# constraint function\n",
    "def constr_s2_func(X):\n",
    "    s = X[:len(r)]\n",
    "    err = np.dot(s, s) - 1.\n",
    "    return np.array([err])\n",
    "\n",
    "# equility constraint: s.s - 1 == 0\n",
    "s2 = optimize.NonlinearConstraint(constr_s2_func, 0., 0.)"
   ]
  },
  {
   "cell_type": "markdown",
   "id": "d2bf3e54",
   "metadata": {},
   "source": [
    "### 3. Solve the NLP with Trust Region"
   ]
  },
  {
   "cell_type": "code",
   "execution_count": null,
   "id": "7d55de10",
   "metadata": {
    "scrolled": false
   },
   "outputs": [],
   "source": [
    "# solve inverse\n",
    "maxiter = 500\n",
    "res = optimize.minimize(\n",
    "    obj_func, X0,\n",
    "    method='trust-constr',\n",
    "    constraints=(s2,),\n",
    "    options={'maxiter': maxiter, 'verbose': 0})"
   ]
  },
  {
   "cell_type": "code",
   "execution_count": null,
   "id": "4524fd80",
   "metadata": {},
   "outputs": [],
   "source": [
    "# extract results\n",
    "X = res['x']\n",
    "w_MLE, xi_scaled_MLE, b_scaled_MLE, vol_frac_MLE = \\\n",
    "X[:len(r)] ** 2, X[len(r)], X[len(r) + 1], X[len(r) + 2]\n",
    "\n",
    "if independent_r_eff:\n",
    "    r_eff_MLE = X[len(r) + 3]\n",
    "else:\n",
    "    r_eff_MLE = (w_MLE * r ** 3).sum() ** (1 / 3)\n",
    "if consider_beta:\n",
    "    beta_MLE = (X[-len(q_tr):]) ** 2\n",
    "else:\n",
    "    beta_MLE = None"
   ]
  },
  {
   "cell_type": "markdown",
   "id": "14e44837",
   "metadata": {},
   "source": [
    "### 4. Visualize and save results"
   ]
  },
  {
   "cell_type": "code",
   "execution_count": null,
   "id": "665b528f",
   "metadata": {},
   "outputs": [],
   "source": [
    "print(f'Inverted volume fraction: {vol_frac_MLE}')\n",
    "print(f'Inverted effective radius: {r_eff_MLE}')\n",
    "print(f'Inverted xi: {xi_scaled_MLE * xi_mag}')\n",
    "print(f'Inverted b: {b_scaled_MLE * b_mag}')\n",
    "\n",
    "# radius distribution\n",
    "plt.figure(dpi=100)\n",
    "plt.plot(r, w_MLE)\n",
    "plt.xlabel(r'Radius, $r$ (\\AA)')\n",
    "plt.ylabel(r'Weight, $w$ (\\%)')\n",
    "plt.show()\n",
    "\n",
    "# intensity\n",
    "I_pred = compute_I(G=G, w=w_MLE, \n",
    "                   q=q_tr, r_vec_or_r_eff=r_eff_MLE, vol_frac=vol_frac_MLE, \n",
    "                   xi=xi_scaled_MLE * xi_mag, b=b_scaled_MLE * b_mag, beta=beta_MLE)\n",
    "plt.figure(dpi=100)\n",
    "plt.plot(q, mu)\n",
    "plt.plot(q_tr, I_pred)\n",
    "plt.xscale('log')\n",
    "plt.yscale('log')\n",
    "plt.xlabel('Scattering vector, $q$ (\\AA$^{-1}$)')\n",
    "plt.ylabel('Intensity, $I$ ($\\mathrm{cm}^{-1}$)')\n",
    "plt.show()"
   ]
  },
  {
   "cell_type": "code",
   "execution_count": null,
   "id": "947a70db",
   "metadata": {},
   "outputs": [],
   "source": [
    "# save\n",
    "result_dict = {\n",
    "    'q': q, 'mu': mu, 'sigma': sigma, 'tr': tr, 'r': r, \n",
    "    'xi_scaled0': xi_scaled0,\n",
    "    'b_scaled0': b_scaled0,\n",
    "    'vol_frac0': vol_frac0,\n",
    "    'r_eff0': r_eff0,\n",
    "    'maxiter': maxiter,\n",
    "    'w_MLE': w_MLE, \n",
    "    'xi_MLE': xi_scaled_MLE * xi_mag, \n",
    "    'b_MLE': b_scaled_MLE * b_mag, \n",
    "    'vol_frac_MLE': vol_frac_MLE,\n",
    "    'r_eff_MLE': r_eff_MLE,\n",
    "    'beta_MLE': beta_MLE,\n",
    "    'I_pred': I_pred}\n",
    "\n",
    "with open('results/' + fname.replace('.dat', '.pkl'), 'wb') as f:\n",
    "        pickle.dump(result_dict, f)"
   ]
  },
  {
   "cell_type": "markdown",
   "id": "4c378cce",
   "metadata": {},
   "source": [
    "# Figures in paper"
   ]
  },
  {
   "cell_type": "code",
   "execution_count": null,
   "id": "9f4ce8df",
   "metadata": {},
   "outputs": [],
   "source": [
    "fnames = ['S35_Ludox1_40pct', 'S40_Ludox2_30pct', 'S41_Ludox3_20pct', \n",
    "          'S42_Ludox4_10pct', 'S47_Ludox5_5pct', 'S49_Ludox6_1pct']\n",
    "\n",
    "# read results\n",
    "res_all = {}\n",
    "for fn in fnames:\n",
    "    with open('results/' + f'{fn}.pkl', 'rb') as f:\n",
    "        res = pickle.load(f)\n",
    "    res_all[fn] = res"
   ]
  },
  {
   "cell_type": "code",
   "execution_count": null,
   "id": "05f2bd50",
   "metadata": {},
   "outputs": [],
   "source": [
    "# find Gaussian approximateion\n",
    "r_uniform = np.linspace(1, 10 ** 2.5, 10000)\n",
    "gaussians = []\n",
    "for i, (fn, res) in enumerate(res_all.items()):\n",
    "    w = res['w_MLE']\n",
    "    w_uniform = interpolate.interp1d(r, w)(r_uniform)\n",
    "    w_uniform /= w_uniform.sum()\n",
    "    i_top = np.argmax(w_uniform)\n",
    "    r_top = r_uniform[i_top]\n",
    "    for i in range(1, 2000):\n",
    "        area = w_uniform[i_top - i:i_top + i + 1].sum()\n",
    "        if area > 0.68:\n",
    "            break\n",
    "    r_sigma = i * (10 ** 2.5 - 1) / 5000\n",
    "    gaussians.append((r_top, r_sigma))"
   ]
  },
  {
   "cell_type": "code",
   "execution_count": null,
   "id": "02cf1cd2",
   "metadata": {},
   "outputs": [],
   "source": [
    "colors = plt.rcParams['axes.prop_cycle'].by_key()['color']\n",
    "markers = ['s', 'o', 'd', 'h', '^', 'v']\n",
    "plt.rcParams.update({'font.size': 10})\n",
    "plt.rcParams.update({'legend.fontsize': 9.5})\n",
    "plt.rcParams.update({'axes.titlesize': 10})\n",
    "\n",
    "fig=plt.figure(dpi=200, figsize=(8, 3.5))\n",
    "\n",
    "lines = []\n",
    "labels = []\n",
    "for i, (fn, res) in enumerate(res_all.items()):\n",
    "    # data\n",
    "    pe = plt.errorbar(res['q'][res['tr']:], res['mu'][res['tr']:], \n",
    "                      yerr=res['sigma'][res['tr']:] * 5, c=colors[i], ecolor=colors[i], capsize=1,\n",
    "                      lw=.5, fmt=markers[i], markersize=4, markerfacecolor='none', markeredgewidth=.5,\n",
    "                      zorder=-i * 10, alpha=.7)\n",
    "    # fit\n",
    "    pf = plt.plot(res['q'][res['tr']:], res['I_pred'], c=colors[i], lw=1.3, zorder=-i)\n",
    "    lines.append((pe, pf[0]))\n",
    "    labels.append(r\"%s: $V_f$=%d%s, $r_\\mathrm{eff}$=%d \\AA, $w\\approx\\mathcal{N}(%d, %d^2)$\" % (\n",
    "        fn.replace('_', '-').replace(f'Ludox{i + 1}-', ''), \n",
    "        res['vol_frac_MLE'] * 100, '\\%', res['r_eff_MLE'],\n",
    "        gaussians[i][0], gaussians[i][1]))\n",
    "\n",
    "plt.xlim(1e-3, 2.2e-1)\n",
    "plt.xscale('log')\n",
    "plt.yscale('log')\n",
    "plt.xlabel('Scattering vector, $q$ (\\AA$^{-1}$)')\n",
    "plt.ylabel('Intensity, $I$ ($\\mathrm{cm}^{-1}$)')\n",
    "plt.legend(lines, labels, facecolor='whitesmoke')\n",
    "\n",
    "# save for paper\n",
    "if reproduce_paper_fig:\n",
    "    plt.savefig(paper_fig_dir / 'ludox.pdf', bbox_inches='tight', \n",
    "                facecolor='w', pad_inches=.05)\n",
    "plt.show()"
   ]
  },
  {
   "cell_type": "code",
   "execution_count": null,
   "id": "6a4dac1f",
   "metadata": {},
   "outputs": [],
   "source": []
  },
  {
   "cell_type": "code",
   "execution_count": null,
   "id": "6d2436d8",
   "metadata": {},
   "outputs": [],
   "source": []
  },
  {
   "cell_type": "code",
   "execution_count": null,
   "id": "ef860cb4",
   "metadata": {},
   "outputs": [],
   "source": []
  },
  {
   "cell_type": "code",
   "execution_count": null,
   "id": "c7de9229",
   "metadata": {},
   "outputs": [],
   "source": []
  },
  {
   "cell_type": "code",
   "execution_count": null,
   "id": "aaf1164c",
   "metadata": {},
   "outputs": [],
   "source": []
  },
  {
   "cell_type": "code",
   "execution_count": null,
   "id": "605f4954",
   "metadata": {},
   "outputs": [],
   "source": []
  },
  {
   "cell_type": "code",
   "execution_count": null,
   "id": "d2921c8a",
   "metadata": {},
   "outputs": [],
   "source": []
  },
  {
   "cell_type": "code",
   "execution_count": null,
   "id": "570f8545",
   "metadata": {},
   "outputs": [],
   "source": []
  }
 ],
 "metadata": {
  "kernelspec": {
   "display_name": "Python 3",
   "language": "python",
   "name": "python3"
  },
  "language_info": {
   "codemirror_mode": {
    "name": "ipython",
    "version": 3
   },
   "file_extension": ".py",
   "mimetype": "text/x-python",
   "name": "python",
   "nbconvert_exporter": "python",
   "pygments_lexer": "ipython3",
   "version": "3.8.10"
  }
 },
 "nbformat": 4,
 "nbformat_minor": 5
}
