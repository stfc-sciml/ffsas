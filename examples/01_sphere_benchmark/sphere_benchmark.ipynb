{
 "cells": [
  {
   "cell_type": "markdown",
   "id": "324c85df",
   "metadata": {},
   "source": [
    "# Example: benchmark for polydisperse spheres\n",
    "\n",
    "In this notebook, we conduct a benchmark for size distribution inversion of polydisperse spheres using synthetic data. The ground truth of the size distribution contains two populations, a Gaussian and a Boltzmann. We benchmark four codes: `Irena`, `SasView`, `McSAS` and `ffsas`. \n",
    "\n",
    "This notebook uses the [SASView/SASModels](http://www.sasview.org/docs/user/models/sphere.html) unit system."
   ]
  },
  {
   "cell_type": "code",
   "execution_count": null,
   "id": "9c31ad13",
   "metadata": {},
   "outputs": [],
   "source": [
    "from pathlib import Path\n",
    "\n",
    "import matplotlib.pyplot as plt\n",
    "import numpy as np\n",
    "from scipy import interpolate\n",
    "import torch\n",
    "\n",
    "from ffsas.models import Sphere\n",
    "from ffsas.system import SASGreensSystem\n",
    "\n",
    "# avoid an OMP error on MacOS (nothing to do with ffsas)\n",
    "import os\n",
    "os.environ['KMP_DUPLICATE_LIB_OK'] = 'True'"
   ]
  },
  {
   "cell_type": "code",
   "execution_count": null,
   "id": "6e67ca1e",
   "metadata": {},
   "outputs": [],
   "source": [
    "# reproduce figures in the paper \n",
    "reproduce_paper_fig = True\n",
    "if reproduce_paper_fig:\n",
    "    # this will trigger an error if latex is not installed\n",
    "    plt.rcParams.update({\n",
    "        \"text.usetex\": True,\n",
    "        \"text.latex.preamble\": r'\\usepackage{bm,upgreek}',\n",
    "        \"font.family\": \"sans-serif\",\n",
    "        \"font.serif\": [\"Times\"]})\n",
    "    # figure dir\n",
    "    paper_fig_dir = Path('../paper_figs')\n",
    "    Path(paper_fig_dir).mkdir(parents=True, exist_ok=True)"
   ]
  },
  {
   "cell_type": "markdown",
   "id": "4db33edb",
   "metadata": {},
   "source": [
    "# Ground truth\n",
    "\n",
    "\n",
    "### Ground truth of radius distribution\n",
    "\n",
    "The ground truth of the radius distribution contains two populations, a Gaussian and a Boltzmann."
   ]
  },
  {
   "cell_type": "code",
   "execution_count": null,
   "id": "ddb4aa76",
   "metadata": {},
   "outputs": [],
   "source": [
    "# radius vector\n",
    "r = torch.linspace(400., 800., 500)\n",
    "\n",
    "# weights\n",
    "gaussian = torch.exp(-(r - 500.) ** 2 / (2 * 10 ** 2))\n",
    "boltzmann = .7 * torch.exp(-torch.abs(r - 700.) / 20)\n",
    "w_true = gaussian + boltzmann\n",
    "w_true /= w_true.sum()  # normalize\n",
    "\n",
    "# plot\n",
    "plt.figure(dpi=100)\n",
    "plt.plot(r, w_true)\n",
    "plt.xlabel(r'Radius, $r$ ($\\AA$)')\n",
    "plt.ylabel(r'Weights, $w$')\n",
    "plt.show()"
   ]
  },
  {
   "cell_type": "markdown",
   "id": "1c1f4187",
   "metadata": {},
   "source": [
    "### Ground truth of intensity\n",
    "\n",
    "Now, based on the above radius distribution, we compute the ground truth of intensity. First, we need to compute the Green's tensor `G` and the SAS system."
   ]
  },
  {
   "cell_type": "code",
   "execution_count": null,
   "id": "afc55c78",
   "metadata": {},
   "outputs": [],
   "source": [
    "# q vector in logscale\n",
    "q = 10 ** torch.linspace(-3, 0, 200)\n",
    "\n",
    "# contrast, (SLD - SLD_solvent) ^ 2\n",
    "drho = 1.\n",
    "\n",
    "# compute the Green's tensor\n",
    "G = Sphere.compute_G_mini_batch([q], {'r': r}, {'drho': drho}, log_screen=True)\n",
    "\n",
    "# define the G-based SAS system\n",
    "g_sys = SASGreensSystem(G, Sphere.get_par_keys_G(), log_screen=True)"
   ]
  },
  {
   "cell_type": "markdown",
   "id": "11eb53dd",
   "metadata": {},
   "source": [
    "Now we need ground truth for `xi` and `b`. Note that the parameter `scale` in [SASView/SASModels](http://www.sasview.org/docs/user/models/sphere.html) is not the same as $\\xi$ in `ffsas`. For the particular unit system of [SASView/SASModels](http://www.sasview.org/docs/user/models/sphere.html), the relation between `scale` and $\\xi$ is\n",
    "\n",
    "$$\\xi=10^{-4}\\times\\dfrac{\\mathrm{scale}}{V_\\text{ave}},$$\n",
    "\n",
    "where $10^{-4}$ comes from the unit system and $V_\\text{ave}$ is the average volume. The `background` in [SASView/SASModels](http://www.sasview.org/docs/user/models/sphere.html) has the same definition as $b$ in `ffsas`."
   ]
  },
  {
   "cell_type": "code",
   "execution_count": null,
   "id": "245e537a",
   "metadata": {},
   "outputs": [],
   "source": [
    "# ground truth of scale and background\n",
    "scale_true = 2.\n",
    "b_true = .5\n",
    "\n",
    "# compute the ground truth of xi\n",
    "V = Sphere.compute_V({'r': r})\n",
    "V_ave = torch.dot(V, w_true)\n",
    "xi_true = 1e-4 * scale_true / V_ave"
   ]
  },
  {
   "cell_type": "markdown",
   "id": "a288bd27",
   "metadata": {},
   "source": [
    "Finally compute the ground truth of intensity and add some uncertainty to it."
   ]
  },
  {
   "cell_type": "code",
   "execution_count": null,
   "id": "7fb30cb8",
   "metadata": {},
   "outputs": [],
   "source": [
    "# intensity\n",
    "I_true = g_sys.compute_intensity({'r': w_true}, xi_true, b_true)\n",
    "\n",
    "# add a 20%~30% error bar\n",
    "torch.random.manual_seed(0)\n",
    "I_true_std = (torch.rand(len(q)) * .1 + .2) * I_true\n",
    "\n",
    "# plot\n",
    "plt.figure(dpi=100)\n",
    "plt.errorbar(q, I_true, yerr=I_true_std, ecolor='gray')\n",
    "plt.xscale('log')\n",
    "plt.yscale('log')\n",
    "plt.xlabel(r'Scattering vector, $q$ ($\\AA^{-1}$)')\n",
    "plt.ylabel(r'Intensity, $I$ ($\\mathrm{cm}^{-1}$)')\n",
    "plt.show()\n",
    "\n",
    "# save intensity data\n",
    "np.savetxt('observation.txt', \n",
    "           torch.stack([q, I_true, I_true_std]).t().numpy())\n",
    "# McSAS use nm^-1 for q\n",
    "np.savetxt('mcsas/observation_McSAS.txt', \n",
    "           torch.stack([q * 10, I_true, I_true_std]).t().numpy())"
   ]
  },
  {
   "cell_type": "markdown",
   "id": "80f08574",
   "metadata": {},
   "source": [
    "---"
   ]
  },
  {
   "cell_type": "markdown",
   "id": "55f4114a",
   "metadata": {},
   "source": [
    "#  Inversion\n",
    "\n",
    "Now we invert for the radius distribution using `ffsas`. Just one line:"
   ]
  },
  {
   "cell_type": "code",
   "execution_count": null,
   "id": "a89717d0",
   "metadata": {
    "scrolled": false
   },
   "outputs": [],
   "source": [
    "# solve the inverse problem using true intensity\n",
    "result_dict = g_sys.solve_inverse(I_true, I_true_std, maxiter=200, verbose=1,\n",
    "                                  trust_options={'xtol': 0., 'gtol': 0.})"
   ]
  },
  {
   "cell_type": "markdown",
   "id": "d5ee36e7",
   "metadata": {},
   "source": [
    "---"
   ]
  },
  {
   "cell_type": "markdown",
   "id": "29587eda",
   "metadata": {},
   "source": [
    "# Visualizing results\n",
    "\n",
    "Now we plot the results of `Irena`, `SasView`, `McSAS` and `ffsas`. Screenshots are provided in `./screenshots` for users to reproduce the results from `Irena`, `SasView` and `McSAS`.\n",
    "\n",
    "### Radius distributions"
   ]
  },
  {
   "cell_type": "code",
   "execution_count": null,
   "id": "fbd8fc83",
   "metadata": {
    "scrolled": false
   },
   "outputs": [],
   "source": [
    "# plot settings\n",
    "alpha = .25\n",
    "lw = 1.5\n",
    "colors = plt.rcParams['axes.prop_cycle'].by_key()['color']\n",
    "\n",
    "style_irena = colors[0], _, 's', 4\n",
    "style_sasview = colors[1], _, 'D', 3\n",
    "style_mcsas = colors[3], _, '+', 4\n",
    "style_ffsas = colors[2], _, 'x', 2\n",
    "\n",
    "fontsize = 17\n",
    "plt.rcParams.update({'font.size': fontsize})\n",
    "plt.rcParams.update({'legend.fontsize': fontsize})\n",
    "plt.rcParams.update({'axes.titlesize': fontsize})"
   ]
  },
  {
   "cell_type": "code",
   "execution_count": null,
   "id": "076105c1",
   "metadata": {},
   "outputs": [],
   "source": [
    "# figure\n",
    "fig = plt.figure(dpi=200, figsize=(6, 3.5))\n",
    "plt.xlabel(r'Radius, $r$ (\\AA)')\n",
    "plt.ylabel(r'Weights, $w$')\n",
    "plt.title(r'(a) Comparing $w(r)$ by different methods')\n",
    "\n",
    "# downsample to make plot cleaner\n",
    "st = 4\n",
    "st1 = 3\n",
    "wh = list(range(0, 80, st)) + list(range(80, 160, st1)) + list(range(160, len(r), st))\n",
    "\n",
    "# truth\n",
    "plot_data = plt.errorbar(r[wh], w_true[wh] * 100, yerr=None, \n",
    "                         c='k', fmt='-', zorder=-100, label='Truth')\n",
    "plt.xlim(r[0], r[-1])\n",
    "\n",
    "# Irena\n",
    "vol_frac = np.loadtxt('irena/output_wv(r).txt')[:len(r)]\n",
    "w_irena = vol_frac / r ** 3\n",
    "w_irena /= w_irena.sum()\n",
    "plot_irena = plt.errorbar(r[wh], w_irena[wh] * 100, yerr=None, \n",
    "                          c=style_irena[0], fmt=style_irena[2],  \n",
    "                          markersize=style_irena[3], label='Irena')\n",
    "\n",
    "# SasView\n",
    "# these numbers are from the screenshots\n",
    "A_scale = 0.24676\n",
    "A_radius = 500.02\n",
    "B_scale = 0.75329\n",
    "B_radius = 699.97\n",
    "A_PD = 0.020124\n",
    "B_PD = 0.028707\n",
    "# sigma\n",
    "A_sigma = A_radius * A_PD\n",
    "B_sigma = B_radius * B_PD\n",
    "# scale in SasView are volumn-weighted\n",
    "A_shape = torch.exp(-(r - A_radius) ** 2 / (2 * A_sigma ** 2))\n",
    "B_shape = torch.exp(-torch.abs(r - B_radius) / B_sigma)\n",
    "A_vol = (A_shape * r ** 3).sum()\n",
    "B_vol = (B_shape * r ** 3).sum()\n",
    "A_xi = A_scale / A_vol\n",
    "B_xi = B_scale / B_vol\n",
    "w_sasview = A_xi * A_shape + B_xi * B_shape\n",
    "w_sasview /= w_sasview.sum()\n",
    "plot_sasview = plt.errorbar(r[wh], w_sasview[wh] * 100, yerr=None, \n",
    "                            c=style_sasview[0], fmt=style_sasview[2],  \n",
    "                            markersize=style_sasview[3], label='SasView')\n",
    "\n",
    "# McSAS\n",
    "mcsas_data = np.loadtxt('mcsas/output_w(r).dat', skiprows=1)\n",
    "r_low = mcsas_data[:, 0] * 1e10\n",
    "w_low = mcsas_data[:, 2]\n",
    "std_w_low = mcsas_data[:, 3]\n",
    "# interpolate result to original resolution of r \n",
    "# because the maximum bin number of McSAS output is 200\n",
    "w_mcsas = interpolate.interp1d(r_low, w_low, fill_value=\"extrapolate\")(r)\n",
    "std_w_mcsas = interpolate.interp1d(r_low, std_w_low, fill_value=\"extrapolate\")(r)\n",
    "norm = w_mcsas.sum()\n",
    "w_mcsas /= norm\n",
    "std_w_mcsas /= norm\n",
    "plot_mcsas = plt.errorbar(r[wh], w_mcsas[wh] * 100, yerr=std_w_mcsas[wh] * 100, \n",
    "                          c=style_mcsas[0], fmt=style_mcsas[2],  \n",
    "                          markersize=style_mcsas[3], capsize=1, lw=.5, label='McSAS')\n",
    "\n",
    "# ffsas\n",
    "w_ffsas = result_dict['w_dict']['r']\n",
    "plot_ffsas = plt.errorbar(r[wh], w_ffsas[wh] * 100, yerr=result_dict['std_w_dict']['r'][wh] * 100, \n",
    "                          c=style_ffsas[0], fmt=style_ffsas[2],  \n",
    "                          markersize=style_ffsas[3], capsize=1, lw=.5, label='FFSAS')\n",
    "\n",
    "# plot and save\n",
    "plt.legend(handlelength=1, facecolor='whitesmoke')\n",
    "if reproduce_paper_fig:\n",
    "    plt.savefig(paper_fig_dir / 'bench_w.pdf', \n",
    "                bbox_inches='tight', facecolor='w', pad_inches=.1)\n",
    "plt.show()"
   ]
  },
  {
   "cell_type": "markdown",
   "id": "8101a5c7",
   "metadata": {},
   "source": [
    "### Intensity curves"
   ]
  },
  {
   "cell_type": "code",
   "execution_count": null,
   "id": "6ade3962",
   "metadata": {},
   "outputs": [],
   "source": [
    "# figure\n",
    "fig=plt.figure(dpi=200, figsize=(6, 3.5))\n",
    "plt.xscale('log')\n",
    "plt.yscale('log')\n",
    "plt.xlabel(r'Scattering vector, $q$ (\\AA$^{-1}$)')\n",
    "plt.ylabel(r'Intensity, $I$ ($\\mathrm{cm}^{-1}$)')\n",
    "plt.title(r'(b) Comparing $I(q)$ by different methods')\n",
    "\n",
    "# truth\n",
    "st = 2\n",
    "plot_data = plt.errorbar(q[::st], I_true[::st], yerr=I_true_std[::st] * 3, capsize=1, lw=lw, elinewidth=.5,\n",
    "                         c='k', fmt='-', zorder=-100, label='Truth')\n",
    "plt.xlim(q[0], q[-1])\n",
    "\n",
    "# Irena\n",
    "I_irena = np.loadtxt('irena/output_I(q).txt')\n",
    "I_irena += b_true  # Irena saves data without background\n",
    "plot_mcsas = plt.errorbar(q[::st], I_irena[::st], yerr=None, c=style_irena[0], lw=0, \n",
    "                          fmt=style_irena[2], markersize=style_irena[3], label='Irena')\n",
    "\n",
    "# SasView\n",
    "I_sasview = np.loadtxt('sasview/output_I(q).txt', skiprows=1)[:, 1]\n",
    "plot_sasview = plt.errorbar(q[::st], I_sasview[::st], yerr=None, c=style_sasview[0], lw=0, \n",
    "                            fmt=style_sasview[2], markersize=style_sasview[3], label='SasView')\n",
    "\n",
    "# McSAS\n",
    "mc_data = np.loadtxt('mcsas/output_I(q).dat', skiprows=1)\n",
    "q_low = mc_data[:, 0] / 1e10\n",
    "I_low = mc_data[:, 3]\n",
    "I_mcsas = interpolate.interp1d(q_low, I_low, fill_value=\"extrapolate\")(q)\n",
    "plot_mcsas = plt.errorbar(q[::st], I_mcsas[::st], yerr=None, c=style_mcsas[0], lw=0, \n",
    "                          fmt=style_mcsas[2], markersize=style_mcsas[3], label='McSAS')\n",
    "\n",
    "# # ffsas\n",
    "I_ffsas = result_dict['I']\n",
    "plot_ffsas = plt.errorbar(q[::st], I_ffsas[::st], yerr=None, c=style_ffsas[0], lw=0, \n",
    "                          fmt=style_ffsas[2], markersize=style_ffsas[3], label='FFSAS')\n",
    "\n",
    "# plot and save\n",
    "plt.legend(handlelength=1, facecolor='whitesmoke')\n",
    "if reproduce_paper_fig:\n",
    "    plt.savefig(paper_fig_dir / 'bench_I.pdf', \n",
    "                bbox_inches='tight', facecolor='w', pad_inches=.1)\n",
    "plt.show()"
   ]
  },
  {
   "cell_type": "markdown",
   "id": "8defe2a1",
   "metadata": {},
   "source": [
    "### Metrics"
   ]
  },
  {
   "cell_type": "code",
   "execution_count": null,
   "id": "f3396ae1",
   "metadata": {},
   "outputs": [],
   "source": [
    "# chi2\n",
    "def compute_chi2(I_fit):\n",
    "    if not isinstance(I_fit, torch.Tensor):\n",
    "        I_fit = torch.from_numpy(I_fit)\n",
    "    return torch.norm((I_fit - I_true) / I_true_std) ** 2\n",
    "    \n",
    "print(f'Intensity chi2')\n",
    "print(f'Irena: {compute_chi2(I_irena):.0e}')\n",
    "print(f'SasView: {compute_chi2(I_sasview):.0e}')\n",
    "print(f'McSAS: {compute_chi2(I_mcsas):.0e}')\n",
    "print(f'FFSAS: {compute_chi2(I_ffsas):.0e}')\n",
    "print()\n",
    "\n",
    "# delta w\n",
    "def compute_delta_w_norm(w_fit):\n",
    "    if not isinstance(w_fit, torch.Tensor):\n",
    "        w_fit = torch.from_numpy(w_fit)\n",
    "    return torch.norm(w_fit - w_true)\n",
    "\n",
    "def compute_delta_w_max(w_fit):\n",
    "    if not isinstance(w_fit, torch.Tensor):\n",
    "        w_fit = torch.from_numpy(w_fit)\n",
    "    return torch.max(torch.abs(w_fit - w_true))\n",
    "\n",
    "\n",
    "print(f'|delta w|')\n",
    "print(f'Irena: {compute_delta_w_norm(w_irena):.0e}')\n",
    "print(f'SasView: {compute_delta_w_norm(w_sasview):.0e}')\n",
    "print(f'McSAS: {compute_delta_w_norm(w_mcsas):.0e}')\n",
    "print(f'FFSAS: {compute_delta_w_norm(w_ffsas):.0e}')\n",
    "print()\n",
    "\n",
    "print(f'max(delta w)')\n",
    "print(f'Irena: {compute_delta_w_max(w_irena):.0e}')\n",
    "print(f'SasView: {compute_delta_w_max(w_sasview):.0e}')\n",
    "print(f'McSAS: {compute_delta_w_max(w_mcsas):.0e}')\n",
    "print(f'FFSAS: {compute_delta_w_max(w_ffsas):.0e}')\n",
    "print()\n",
    "\n",
    "print('wct / sec')\n",
    "print(f'Irena: 2')\n",
    "print(f'SasView: 0.0979')\n",
    "print(f'McSAS: {3.30376664797 * 60}')\n",
    "print(f'FFSAS: {result_dict[\"wct\"]}')"
   ]
  },
  {
   "cell_type": "markdown",
   "id": "59f05786",
   "metadata": {},
   "source": [
    "---"
   ]
  }
 ],
 "metadata": {
  "kernelspec": {
   "display_name": "Python 3",
   "language": "python",
   "name": "python3"
  },
  "language_info": {
   "codemirror_mode": {
    "name": "ipython",
    "version": 3
   },
   "file_extension": ".py",
   "mimetype": "text/x-python",
   "name": "python",
   "nbconvert_exporter": "python",
   "pygments_lexer": "ipython3",
   "version": "3.8.10"
  }
 },
 "nbformat": 4,
 "nbformat_minor": 5
}
