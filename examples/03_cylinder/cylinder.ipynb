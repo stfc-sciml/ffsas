{
 "cells": [
  {
   "cell_type": "markdown",
   "id": "0e697fbd",
   "metadata": {},
   "source": [
    "# Example: cylinder\n",
    "\n",
    "This notebook shows how to solve a multi-parameter system using `ffsas`. We use the `cylinder` model as an example, which has four model parameters: length $l$, radius $r$, angle to beam $\\theta$ and rotation about beam $\\phi$.  We can use the built-in class `ffsas.models.Cylinder` or write our own user-defined class for this model. We will demonstrate both."
   ]
  },
  {
   "cell_type": "code",
   "execution_count": null,
   "id": "adb0ee13",
   "metadata": {},
   "outputs": [],
   "source": [
    "import matplotlib.pyplot as plt\n",
    "import matplotlib.colors as colors\n",
    "import torch\n",
    "\n",
    "import ffsas.models\n",
    "from ffsas.system import SASGreensSystem\n",
    "\n",
    "# math required for cylinder\n",
    "from numpy import pi\n",
    "from scipy.special import j1\n",
    "\n",
    "# use 'cuda' if you have a GPU\n",
    "device = 'cpu'\n",
    "\n",
    "# avoid an OMP error on MacOS (nothing to do with ffsas)\n",
    "import os\n",
    "os.environ['KMP_DUPLICATE_LIB_OK'] = 'True'"
   ]
  },
  {
   "cell_type": "markdown",
   "id": "5383575e",
   "metadata": {},
   "source": [
    "# The `CylinderUser` class\n",
    "\n",
    "A user-defined model is implemented by class inheritance. The base class is `ffsas.models.SASModel`. Three abstract class methods need to be implemented: \n",
    "\n",
    "* `compute_G()`: compute the Green's tensor $G$\n",
    "* `get_par_keys_G()`: get the parameter keys in the order they appear in the dimensions of $G$\n",
    "* `compute_V()`: compute the volume $V$\n",
    "\n",
    "The arguments for `compute_G()` are explained below:\n",
    "* `q_list`: list of $q$-vectors; `len[q_list]` can be 1 or 2, meaning that the intensity is a curve or an image\n",
    "* `par_dict`: a `dict` of model parameters, all being 1D `torch.Tensor`'s\n",
    "* `const_dict`: a `dict` of model constants with arbitrary types and dimensions\n",
    "* `V`: the volume tensor $V$; if not provided, compute it in `compute_G()` if needed\n",
    "\n",
    "The `CylinderUser` class is implemented as below. The equation for the Green's tensor can be found [here](https://www.sasview.org/docs/user/models/cylinder.html). Avoiding `for` loop is the key to achieve high performance in forward modelling."
   ]
  },
  {
   "cell_type": "code",
   "execution_count": null,
   "id": "000828e3",
   "metadata": {},
   "outputs": [],
   "source": [
    "class CylinderUser(ffsas.models.SASModel):\n",
    "    @classmethod\n",
    "    def compute_G(cls, q_list, par_dict, const_dict, V=None):\n",
    "        # get parameters\n",
    "        qx, qy = q_list[0], q_list[1]\n",
    "        l, r = par_dict['l'], par_dict['r']\n",
    "        theta, phi = par_dict['theta'], par_dict['phi']\n",
    "        drho = const_dict['drho']\n",
    "\n",
    "        # compute volume\n",
    "        if V is None:\n",
    "            V = cls.compute_V(par_dict)\n",
    "            \n",
    "        #############\n",
    "        # Compute G #\n",
    "        #############\n",
    "\n",
    "        # step 1: rotate q\n",
    "        sin_theta = torch.sin(theta)\n",
    "        r31 = torch.outer(sin_theta, torch.cos(phi))\n",
    "        r32 = torch.outer(sin_theta, torch.sin(phi))\n",
    "        qc = (qx[:, None, None] * r31[None, :, :])[:, None, :, :] + \\\n",
    "             (qy[:, None, None] * r32[None, :, :])[None, :, :, :]\n",
    "        qa = torch.sqrt(torch.clip(\n",
    "            (qx ** 2)[:, None, None, None] +\n",
    "            (qy ** 2)[None, :, None, None] - qc ** 2, min=0.))\n",
    "\n",
    "        # step 2: qa * r, qc * l\n",
    "        qa_r = torch.moveaxis(qa[:, :, :, :, None] *\n",
    "                              r[None, None, None, None, :], 4, 2)\n",
    "        qc_l = torch.moveaxis(qc[:, :, :, :, None] *\n",
    "                              l[None, None, None, None, :], 4, 2) * .5\n",
    "        \n",
    "        # step 3: shape factor\n",
    "        sin_qc_l = torch.nan_to_num(2. * torch.sin(qc_l) / qc_l,\n",
    "                                    nan=1., posinf=1., neginf=1.)\n",
    "        # NOTE: scipy.special.j1() must be called on cpu\n",
    "        j1_qa_r = torch.tensor(j1(qa_r.to('cpu').numpy()), device=qa_r.device)\n",
    "        j1_qa_r = torch.nan_to_num(j1_qa_r / qa_r, nan=1., posinf=1., neginf=1.)\n",
    "        # shape factor\n",
    "        shape_factor = sin_qc_l[:, :, :, None, :, :] * j1_qa_r[:, :, None, :, :, :]\n",
    "        \n",
    "        # step 4: G\n",
    "        G = (drho * shape_factor * V[None, None, :, :, None, None]) ** 2\n",
    "        return G\n",
    "\n",
    "    @classmethod\n",
    "    def get_par_keys_G(cls):\n",
    "        return ['l', 'r', 'theta', 'phi']\n",
    "\n",
    "    @classmethod\n",
    "    def compute_V(cls, par_dict):\n",
    "        l, r = par_dict['l'], par_dict['r']\n",
    "        return pi * l[:, None] * r[None, :] ** 2"
   ]
  },
  {
   "cell_type": "markdown",
   "id": "48504d07",
   "metadata": {},
   "source": [
    "Now we can choose whether to use the built-in class `ffsas.models.Cylinder` or our user-defined class `CylinderUser`. Both should give us the same results."
   ]
  },
  {
   "cell_type": "code",
   "execution_count": null,
   "id": "41afe80c",
   "metadata": {},
   "outputs": [],
   "source": [
    "# use built-in\n",
    "# Cylinder = ffsas.models.Cylinder\n",
    "\n",
    "# use user-defined\n",
    "Cylinder = CylinderUser"
   ]
  },
  {
   "cell_type": "markdown",
   "id": "d139f294",
   "metadata": {},
   "source": [
    "---"
   ]
  },
  {
   "cell_type": "markdown",
   "id": "04cd66b2",
   "metadata": {},
   "source": [
    "# Ground truth\n",
    "\n",
    "\n",
    "### Ground truth of distributions of $l$, $r$, $\\theta$, $\\phi$\n",
    "\n",
    "\n",
    "The following function creates a \"crazy\" distribution by adding up a few Gaussians and random noises."
   ]
  },
  {
   "cell_type": "code",
   "execution_count": null,
   "id": "5627ed05",
   "metadata": {},
   "outputs": [],
   "source": [
    "def crazy_distribution(x, gaussians, noise_level, fade_start, fade_end, seed=0):\n",
    "    # create\n",
    "    w_true = torch.zeros(x.shape)\n",
    "    \n",
    "    # add Gaussians\n",
    "    for factor, mean, stddev in gaussians:\n",
    "        w_true += factor * torch.exp(-((x - mean) / stddev) ** 2)\n",
    "    \n",
    "    # add noise\n",
    "    torch.random.manual_seed(seed)\n",
    "    w_true += noise_level * torch.rand(x.shape) * torch.rand(x.shape)\n",
    "    \n",
    "    # fade both ends to make it look nicer\n",
    "    if len(x) >= 3:\n",
    "        w_true[0:fade_start] = 0.\n",
    "        w_true[fade_start:fade_end] *= torch.linspace(0, 1, fade_end - fade_start)\n",
    "        w_true[-fade_start:] = 0.\n",
    "        w_true[-fade_end:-fade_start] *= torch.linspace(1, 0, fade_end - fade_start)\n",
    "    \n",
    "    # normalize to 1\n",
    "    w_true /= torch.sum(w_true)\n",
    "    return w_true"
   ]
  },
  {
   "cell_type": "markdown",
   "id": "28113c9a",
   "metadata": {},
   "source": [
    "Make the four parameter distributions:"
   ]
  },
  {
   "cell_type": "code",
   "execution_count": null,
   "id": "b7aec42e",
   "metadata": {},
   "outputs": [],
   "source": [
    "# parameters\n",
    "par_dict = {\n",
    "    'l': torch.linspace(200., 600., 18),\n",
    "    'r': torch.linspace(50., 90., 17),\n",
    "    'theta': torch.linspace(5., 60., 16),\n",
    "    'phi': torch.linspace(150., 240., 15)\n",
    "}\n",
    "\n",
    "# parameter distributions\n",
    "w_true_dict = {\n",
    "    'l': crazy_distribution(par_dict['l'], [(1.5, 300, 20), (1, 400, 20), (2, 500, 20)], 1, 1, 1),\n",
    "    'r': crazy_distribution(par_dict['r'], [(1, 60, 3), (2, 70, 4), (2, 80, 3)], 1, 1, 1),\n",
    "    'theta': crazy_distribution(par_dict['theta'], [(4, 15, 5), (2, 35, 5), (2, 50, 5)], 2, 1, 1),\n",
    "    'phi': crazy_distribution(par_dict['phi'], [(2, 170, 10), (2, 200, 10), (4, 220, 10)], 3, 1, 1)\n",
    "}\n",
    "\n",
    "# plot distributions\n",
    "fig, ax = plt.subplots(2, 2, dpi=200, figsize=(10, 6))\n",
    "plt.subplots_adjust(hspace=.5, wspace=.3)\n",
    "ax[0, 0].plot(par_dict['l'], w_true_dict['l'], label='Truth')\n",
    "ax[0, 1].plot(par_dict['r'], w_true_dict['r'], label='Truth')\n",
    "ax[1, 0].plot(par_dict['theta'], w_true_dict['theta'], label='Truth')\n",
    "ax[1, 1].plot(par_dict['phi'], w_true_dict['phi'], label='Truth')\n",
    "ax[0, 0].set_xlabel(r'Lenght, $l$ ($\\AA$)')\n",
    "ax[0, 1].set_xlabel(r'Radius, $r$ ($\\AA$)')\n",
    "ax[1, 0].set_xlabel(r'Cylinder axis to beam angle, $\\theta$ (degree)')\n",
    "ax[1, 1].set_xlabel(r'Rotation about beam, $\\phi$ (degree)')\n",
    "ax[0, 0].set_ylabel(r'Weights, $w$')\n",
    "ax[0, 1].set_ylabel(r'Weights, $w$')\n",
    "ax[1, 0].set_ylabel(r'Weights, $w$')\n",
    "ax[1, 1].set_ylabel(r'Weights, $w$')\n",
    "plt.show()\n",
    "\n",
    "# degree to radian\n",
    "par_dict['theta'] = torch.deg2rad(par_dict['theta'])\n",
    "par_dict['phi'] = torch.deg2rad(par_dict['phi'])"
   ]
  },
  {
   "cell_type": "markdown",
   "id": "70941cf3",
   "metadata": {},
   "source": [
    "### Ground truth of intensity\n",
    "\n",
    "Now we compute the true intensity from the above parameter distributions, assuming the truth of $\\xi$ and $b$. "
   ]
  },
  {
   "cell_type": "code",
   "execution_count": null,
   "id": "f23e592a",
   "metadata": {},
   "outputs": [],
   "source": [
    "### ground truth of scale and background\n",
    "scale_true = 0.15\n",
    "b_true = 2.2e-4\n",
    "\n",
    "# q vectors\n",
    "qx = torch.linspace(-.75, .75, 60)\n",
    "qy = torch.linspace(-.75, .75, 60)\n",
    "\n",
    "# (SLD - SLD_solvent) ^ 2\n",
    "drho = 1.\n",
    "\n",
    "# compute the Green's tensor\n",
    "G = Cylinder.compute_G_mini_batch([qx, qy], par_dict, {'drho': drho}, batch_size=8, device=device)\n",
    "\n",
    "# define the G-based SAS system\n",
    "g_sys = SASGreensSystem(G, Cylinder.get_par_keys_G(), batch_size=8, device=device)\n",
    "\n",
    "# true xi\n",
    "V = Cylinder.compute_V(par_dict)\n",
    "V_ave = torch.tensordot(torch.tensordot(V, w_true_dict['r'], dims=1), w_true_dict['l'], dims=1)\n",
    "xi_true = 1e-4 * scale_true / V_ave\n",
    "\n",
    "# finally compute the ground truth of intensity\n",
    "I_true = g_sys.compute_intensity(w_true_dict, xi_true, b_true)"
   ]
  },
  {
   "cell_type": "markdown",
   "id": "9c2599aa",
   "metadata": {},
   "source": [
    "Plot the intensity truth:"
   ]
  },
  {
   "cell_type": "code",
   "execution_count": null,
   "id": "d5e1a00f",
   "metadata": {},
   "outputs": [],
   "source": [
    "plt.figure(dpi=150)\n",
    "plt.imshow(I_true.t(), \n",
    "           extent=(qx[0], qx[-1], qy[0], qy[-1]), aspect=1., cmap='hot',\n",
    "           norm=colors.LogNorm(vmin=I_true.min(), vmax=I_true.max()))\n",
    "plt.xlabel(r'Scattering vector, $qx$ ($\\AA^{-1}$)')\n",
    "plt.ylabel(r'Scattering vector, $qy$ ($\\AA^{-1}$)')\n",
    "plt.colorbar()\n",
    "plt.show()"
   ]
  },
  {
   "cell_type": "markdown",
   "id": "26266354",
   "metadata": {},
   "source": [
    "---"
   ]
  },
  {
   "cell_type": "markdown",
   "id": "06eeee52",
   "metadata": {},
   "source": [
    "#  Inversion\n",
    "\n",
    "With the G-based SAS system defined, inversion only requires one line, taking the simulated intensity data (`I_true`) as input (for both mean and stddev). We perform 200 iterations by sending `maxiter=200` and save the results every 10 steps by `save_iter=10`. It should take about 15 minutes to run on a CPU."
   ]
  },
  {
   "cell_type": "code",
   "execution_count": null,
   "id": "c0d79f1a",
   "metadata": {
    "scrolled": false
   },
   "outputs": [],
   "source": [
    "# invert the G-system\n",
    "res_dict = g_sys.solve_inverse(I_true, I_true, auto_scaling=True, \n",
    "                               maxiter=200, verbose=2, save_iter=10,\n",
    "                               trust_options={'xtol': 0.})  # disable early stop and finish 200 iters"
   ]
  },
  {
   "cell_type": "markdown",
   "id": "51c1ae51",
   "metadata": {},
   "source": [
    "Plot the convergence history of the weights of $l$, $r$, $\\theta$, $\\phi$:"
   ]
  },
  {
   "cell_type": "code",
   "execution_count": null,
   "id": "f16d1672",
   "metadata": {
    "scrolled": false
   },
   "outputs": [],
   "source": [
    "par_keys = ['l', 'r', 'theta', 'phi']\n",
    "par_keys_latex = [r'$l$', r'$r$', r'$\\theta$', r'$\\phi$']\n",
    "\n",
    "# plot history\n",
    "for i, saved_res_dict in enumerate(res_dict['saved_res']):\n",
    "    fig, ax = plt.subplots(1, 4, dpi=200, figsize=(15, 2))\n",
    "    for ikey, key in enumerate(par_keys):\n",
    "        # truth\n",
    "        ax[ikey].plot(par_dict[key], w_true_dict[key], label=f'Truth')\n",
    "        # fitted\n",
    "        ax[ikey].plot(par_dict[key], saved_res_dict['w_dict'][key], label=f'MLE')\n",
    "        # uncertainty\n",
    "        ax[ikey].fill_between(par_dict[key], \n",
    "                              saved_res_dict['w_dict'][key] - saved_res_dict['std_w_dict'][key], \n",
    "                              saved_res_dict['w_dict'][key] + saved_res_dict['std_w_dict'][key], \n",
    "                              alpha=.3, color='gray', zorder=-100)\n",
    "        # settings\n",
    "        ax[ikey].set_xlabel(par_keys_latex[ikey])\n",
    "        ax[ikey].set_ylim(-.01, w_true_dict[key].max() * 1.1)\n",
    "        ax[ikey].set_xlim(par_dict[key].min(), par_dict[key].max())\n",
    "        ax[ikey].set_xticks([])\n",
    "    ax[0].set_ylabel(f'iter={saved_res_dict[\"nit\"]}')\n",
    "    ax[2].legend(loc='upper right')\n",
    "    plt.show()"
   ]
  },
  {
   "cell_type": "markdown",
   "id": "dbb1050f",
   "metadata": {},
   "source": [
    "Finally, plot the fitted intensity and fitting error:"
   ]
  },
  {
   "cell_type": "code",
   "execution_count": null,
   "id": "f5532ef8",
   "metadata": {},
   "outputs": [],
   "source": [
    "fig, ax = plt.subplots(1, 3, dpi=200, figsize=(12, 4), sharex=True, sharey=True)\n",
    "plt.subplots_adjust(wspace=.2)\n",
    "# truth\n",
    "cm = ax[0].imshow(I_true.t(), extent=(qx[0], qx[-1], qy[0], qy[-1]), cmap='hot',\n",
    "                  norm=colors.LogNorm(vmin=I_true.min(), vmax=I_true.max()))\n",
    "ax[0].set_title('True intensity')\n",
    "ax[0].set_xlabel(r'Scattering vector, $q_x$ ($\\AA^{-1}$)')\n",
    "ax[0].set_ylabel(r'Scattering vector, $q_y$ ($\\AA^{-1}$)')\n",
    "# fitted\n",
    "ax[1].imshow(res_dict['I'].t(), extent=(qx[0], qx[-1], qy[0], qy[-1]), cmap='hot',\n",
    "             norm=colors.LogNorm(vmin=I_true.min(), vmax=I_true.max()))\n",
    "ax[1].set_title('Fitted intensity')\n",
    "ax[1].set_xlabel(r'Scattering vector, $q_x$ ($\\AA^{-1}$)')\n",
    "# error\n",
    "im = ax[2].imshow(torch.clip(torch.abs(res_dict['I'].t() - I_true.t()), min=1e-10), \n",
    "                  extent=(qx[0], qx[-1], qy[0], qy[-1]), cmap='hot',\n",
    "                  norm=colors.LogNorm(vmin=I_true.min(), vmax=I_true.max()))\n",
    "ax[2].set_title('Misfit')\n",
    "ax[2].set_xlabel(r'Scattering vector, $q_x$ ($\\AA^{-1}$)')\n",
    "\n",
    "# colorbar\n",
    "cbar_ax = fig.add_axes([.92, 0.15, 0.02, 0.7])\n",
    "fig.colorbar(im, cax=cbar_ax)\n",
    "plt.show()"
   ]
  },
  {
   "cell_type": "markdown",
   "id": "5a936051",
   "metadata": {},
   "source": [
    "---"
   ]
  }
 ],
 "metadata": {
  "kernelspec": {
   "display_name": "Python 3",
   "language": "python",
   "name": "python3"
  },
  "language_info": {
   "codemirror_mode": {
    "name": "ipython",
    "version": 3
   },
   "file_extension": ".py",
   "mimetype": "text/x-python",
   "name": "python",
   "nbconvert_exporter": "python",
   "pygments_lexer": "ipython3",
   "version": "3.8.10"
  }
 },
 "nbformat": 4,
 "nbformat_minor": 5
}
