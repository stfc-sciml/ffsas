{
 "cells": [
  {
   "cell_type": "markdown",
   "id": "6b8965ae",
   "metadata": {},
   "source": [
    "# Exampe: sphere with PS3 dataset\n",
    "\n",
    "This notebook shows how to use `ffsas` to invert for the radius distribution of a `Sphere` model with a real dataset called \"PS3\". It uses the [SASView/SASModels](http://www.sasview.org/docs/user/models/sphere.html) unit system."
   ]
  },
  {
   "cell_type": "code",
   "execution_count": null,
   "id": "66dbd827",
   "metadata": {},
   "outputs": [],
   "source": [
    "# avoid omp error on Mac\n",
    "import os\n",
    "os.environ['KMP_DUPLICATE_LIB_OK'] = 'True'\n",
    "\n",
    "# plotting setup\n",
    "import matplotlib.pyplot as plt\n",
    "import matplotlib\n",
    "matplotlib.rcParams.update({'font.size': 12})\n",
    "matplotlib.rcParams.update({'legend.fontsize': 11})\n",
    "matplotlib.rcParams.update({'axes.titlesize': 12})\n",
    "matplotlib.rcParams.update({'lines.linewidth': 2})\n",
    "colors = plt.rcParams['axes.prop_cycle'].by_key()['color']\n",
    "\n",
    "# create output dir\n",
    "from pathlib import Path\n",
    "output_dir = Path('./output/sphere_PS3_data')\n",
    "Path(output_dir).mkdir(parents=True, exist_ok=True)"
   ]
  },
  {
   "cell_type": "code",
   "execution_count": null,
   "id": "c5c991e4",
   "metadata": {},
   "outputs": [],
   "source": [
    "# uncomment this line to install ffsas\n",
    "# !pip install ffsas\n",
    "\n",
    "# ffsas\n",
    "import torch\n",
    "import ffsas\n",
    "from ffsas.models import Sphere\n",
    "from ffsas.system import SASGreensSystem\n",
    "\n",
    "# math tools\n",
    "from scipy import interpolate\n",
    "\n",
    "# numpy for reading data\n",
    "import numpy as np"
   ]
  },
  {
   "cell_type": "markdown",
   "id": "defb4dac",
   "metadata": {},
   "source": [
    "# Read data\n",
    "\n",
    "Data are stored in the text file `PS3_data/observation.txt`, with the three columns being $q$, mean and standard deviation of the observed intensity."
   ]
  },
  {
   "cell_type": "code",
   "execution_count": null,
   "id": "b6386f48",
   "metadata": {},
   "outputs": [],
   "source": [
    "# read data\n",
    "fname = f'PS3_data/observation.txt'\n",
    "data = np.loadtxt(fname)\n",
    "\n",
    "# q vector\n",
    "q = torch.tensor(data[:, 0], dtype=ffsas.torch_dtype)\n",
    "\n",
    "# intensity mean\n",
    "mu = torch.tensor(data[:, 1], dtype=ffsas.torch_dtype)\n",
    "\n",
    "# intensity stddev\n",
    "sigma = torch.tensor(data[:, 2], dtype=ffsas.torch_dtype)"
   ]
  },
  {
   "cell_type": "markdown",
   "id": "645edf63",
   "metadata": {},
   "source": [
    "# Inversion\n",
    "\n",
    "Just a few lines to do inversion:"
   ]
  },
  {
   "cell_type": "code",
   "execution_count": null,
   "id": "df592eeb",
   "metadata": {},
   "outputs": [],
   "source": [
    "# specify radii\n",
    "r = torch.linspace(350, 850, 500)\n",
    "\n",
    "# compute the Green's tensor\n",
    "G = Sphere.compute_G_mini_batch([q], {'r': r}, {'drho': 1.})\n",
    "\n",
    "# build G-system\n",
    "g_sys = SASGreensSystem(G, Sphere.get_par_keys_G(), log_file=output_dir / 'sphere_PS3_data.log')\n",
    "\n",
    "# inversion\n",
    "# do only 40 iterations and save every 10 iterations\n",
    "results = g_sys.solve_inverse(mu, sigma, maxiter=40, save_iter=10)"
   ]
  },
  {
   "cell_type": "markdown",
   "id": "629baf12",
   "metadata": {},
   "source": [
    "# Plot results\n",
    "\n",
    "We also plot the results from `MCSAS` and `SASView` for comparison."
   ]
  },
  {
   "cell_type": "code",
   "execution_count": null,
   "id": "c018dd7c",
   "metadata": {},
   "outputs": [],
   "source": [
    "# line stype, width, colors\n",
    "dashes = [[1, 0], [3, 1.5], [2, 1], [1, 1], [.5, .5]]\n",
    "lw = [1.5, 1.5, 1.5, 1.5, 1.5]\n",
    "\n",
    "# saved steps to be plotted\n",
    "plot_steps = [1, 2]\n",
    "\n",
    "# intensity\n",
    "plt.figure(dpi=200, figsize=(8, 4))\n",
    "plt.errorbar(q, mu, yerr=sigma, c='pink', ecolor='skyblue', lw=1, fmt='o',\n",
    "             markersize=3, label=r'Observed $I(q)$', zorder=-100)\n",
    "for j, step in enumerate(plot_steps):\n",
    "    I = results['saved_res'][step]['I']\n",
    "    chi2 = np.linalg.norm((mu - I) / sigma) ** 2 / len(I)\n",
    "    plt.plot(q, I, c=colors[j], dashes=dashes[j], lw=lw[j], zorder=j,\n",
    "             label=r'ffsas nit=%d, $\\chi^2$=%.2f (%d pnts)' % \n",
    "             (results['saved_res'][step]['nit'], chi2, len(I)))\n",
    "    \n",
    "# MC-SAS\n",
    "data_mc = np.loadtxt('PS3_data/mcsas_I(q).dat', skiprows=1)\n",
    "q_mc = data_mc[:, 0] / 1e10\n",
    "I_mc = data_mc[:, 3]\n",
    "I_mc_mu = data_mc[:, 1]\n",
    "I_mc_sigma = data_mc[:, 2]\n",
    "chi2_mc = np.linalg.norm((I_mc_mu - I_mc) / I_mc_sigma) ** 2 / len(I_mc)\n",
    "plt.plot(q_mc, I_mc, c=colors[j + 1], dashes=dashes[j + 1], lw=lw[j + 1],\n",
    "         label=r'MC-SAS, $\\chi^2$=%.2f (%d pnts)' % (chi2_mc, len(I_mc)))\n",
    "plt.axvline(q_mc[-1], lw=1., c=colors[j + 1], ls='-')\n",
    "plt.text(q_mc[-1], 10**4.2, 'MC-SAS limit', color=colors[j + 1], rotation=90, \n",
    "         ha='right', va='top', fontsize=10)\n",
    "\n",
    "# SASView\n",
    "data_sv = np.loadtxt('PS3_data/sasview_I(q).dat', skiprows=1)\n",
    "q_sv = data_sv[:, 0]\n",
    "I_sv = data_sv[:, 1]\n",
    "chi2_sv = np.linalg.norm((mu[:len(I_sv)] - I_sv) / sigma[:len(I_sv)]) ** 2 / len(I_sv)\n",
    "plt.plot(q_sv, I_sv, c=colors[j + 2], dashes=dashes[j + 2], lw=lw[j + 2],\n",
    "         label=r'SASView, $\\chi^2$=%.2f (%d pnts)' % (chi2_sv, len(I_sv)))\n",
    "plt.axvline(q_sv[-1], lw=1., c=colors[j + 2], ls='-')\n",
    "plt.text(q_sv[-1], 10**4.2, 'SASView limit', color=colors[j + 2], \n",
    "         rotation=90, ha='right', va='top', fontsize=10)\n",
    "\n",
    "plt.xscale('log')\n",
    "plt.yscale('log')\n",
    "plt.xlabel('Scattering vector, $q$ ($\\AA^{-1}$)')\n",
    "plt.ylabel('Intensity, $I$ ($\\mathrm{cm}^{-1}$)')\n",
    "handles, labels = plt.gca().get_legend_handles_labels()\n",
    "handles.insert(0, handles.pop())\n",
    "labels.insert(0, labels.pop())\n",
    "plt.legend(handles, labels, loc='lower left')\n",
    "plt.ylim((1e-4, 10 ** 4.5))\n",
    "plt.xlim(q[0] / 1.1, 1e-1)\n",
    "plt.title('Intensity fit for dataset PS3')\n",
    "plt.savefig(output_dir / 'I(q).png', bbox_inches='tight', facecolor='w')\n",
    "plt.show()\n",
    "\n",
    "\n",
    "# radius distribution\n",
    "plt.figure(dpi=200, figsize=(8, 4))\n",
    "for j, step in enumerate(plot_steps):\n",
    "    w = results['saved_res'][step]['w_dict']['r']\n",
    "    plt.plot(r, w, c=colors[j], dashes=dashes[j], lw=lw[j], zorder=-j,\n",
    "             label=r'$w(r)$, ffsas nit=%d, npts=%d, wct=%.1f sec' % \n",
    "             (results['saved_res'][step]['nit'], len(r),\n",
    "              results['saved_res'][step]['wct']))\n",
    "\n",
    "\n",
    "# MC-SAS\n",
    "rw_mc = np.loadtxt('PS3_data/mcsas_w(r).dat', skiprows=1)\n",
    "r_mc = rw_mc[:, 0] * 1e10\n",
    "w_mc = rw_mc[:, 2] / r_mc ** 3\n",
    "w_mc_interp = interpolate.interp1d(r_mc, w_mc)(r)\n",
    "w_mc_interp /= np.sum(w_mc_interp)\n",
    "plt.plot(r, w_mc_interp, c=colors[j + 1], dashes=dashes[j + 1], lw=lw[j + 1],\n",
    "         label=r'$w(r)$, MC-SAS, npts=%d, wct=7.7 hr' % (len(r_mc)))\n",
    "\n",
    "# # SASView\n",
    "rw_sv = np.loadtxt('PS3_data/sasview_w(r).dat', skiprows=1)\n",
    "r_sv = rw_sv[:, 0]\n",
    "w_sv = rw_sv[:, 1]\n",
    "w_sv_interp = interpolate.interp1d(r_sv, w_sv, fill_value=\"extrapolate\")(r)\n",
    "w_sv_interp /= np.sum(w_sv_interp)\n",
    "plt.plot(r, w_sv_interp, c=colors[j+2], dashes=dashes[j + 2], lw=lw[j + 2],\n",
    "         label=r'$w(r)$, SASView, npts=%s, wct<0.5 sec' % 'N/A')\n",
    "\n",
    "plt.xlim(r[5], r[-5])\n",
    "plt.ylabel(r'Weights, $w$')\n",
    "plt.xlabel(r'Radius, $r$ ($\\AA$)')\n",
    "plt.legend(loc='upper left')\n",
    "plt.title('Inverted radius distribution for dataset PS3')\n",
    "plt.savefig(output_dir / 'w(r).png', bbox_inches='tight', facecolor='w')\n",
    "plt.show()"
   ]
  },
  {
   "cell_type": "markdown",
   "id": "e51a1df8",
   "metadata": {},
   "source": [
    "---"
   ]
  }
 ],
 "metadata": {
  "kernelspec": {
   "display_name": "Python 3",
   "language": "python",
   "name": "python3"
  },
  "language_info": {
   "codemirror_mode": {
    "name": "ipython",
    "version": 3
   },
   "file_extension": ".py",
   "mimetype": "text/x-python",
   "name": "python",
   "nbconvert_exporter": "python",
   "pygments_lexer": "ipython3",
   "version": "3.8.10"
  }
 },
 "nbformat": 4,
 "nbformat_minor": 5
}
